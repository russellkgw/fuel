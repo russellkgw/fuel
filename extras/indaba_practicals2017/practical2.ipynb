{
 "cells": [
  {
   "cell_type": "markdown",
   "metadata": {
    "colab_type": "text",
    "id": "y-8QoaJmXd8Z"
   },
   "source": [
    "# DL Indaba Practical 2\n",
    "# Feedforward Neural Networks on Real Data & Best Practices\n",
    "*Developed by Stephan Gouws, Avishkar Bhoopchand & Ulrich Paquet.*\n",
    "\n",
    "**Introduction**\n",
    "\n",
    "In this practical we will move on and discuss best practices for building and training models on real world data (the famous MNIST dataset of hand-written images of digits). We will develop a deep, fully-connected (\"feed-forward\") neural network model that can classify these images with around 98% accuracy (close to state-of-the-art for feedforward models on this dataset). \n",
    "\n",
    "**Learning objectives**:\n",
    "\n",
    "Understanding the issues involved in implementing and applying deep neural networks in practice (w/ a focus on TensorFlow). In particular:\n",
    "\n",
    "* Implementation sanity checking details & controlled overfitting on a small training set.\n",
    " \n",
    "* Training deep neural networks. Understand:\n",
    " * Conceptually how the backprop algorithm efficiently computes model gradients by applying the chain rule and applying dynamic programming (saving intermediate computations).\n",
    " * Overfitting and how to use regularization to avoid it (Weight decay/L2 and dropout).\n",
    " * Knowing when to stop training (early stopping).\n",
    " \n",
    "* Understand the need for hyperparameter tuning in finding good architectures and training settings. \n",
    "\n",
    "**What is expected of you:**\n",
    "\n",
    "* We have included rough time estimates of how long you should aim to spend on the important sections below.\n",
    "* Step through the notebook answering the questions by discussing them with your lab partner. \n",
    "* Execute each cell in turn & fill in the missing code by pair-programming with your lab partner. \n",
    "* 5 min before the end, pair up with someone else and make sure you both understand the concepts listed in \"Learning Objectives\" above. If not, please speak to the tutors!"
   ]
  },
  {
   "cell_type": "markdown",
   "metadata": {
    "colab_type": "text",
    "id": "5JQ4eAF7X2tK"
   },
   "source": [
    "# Setups and Imports"
   ]
  },
  {
   "cell_type": "markdown",
   "metadata": {
    "colab_type": "text",
    "id": "G2tOik9MR8_O"
   },
   "source": [
    "For this practical, we will work with the [famous MNIST dataset of handwritten digits](http://yann.lecun.com/exdb/mnist/). The task is to classify which digit a particular image represents. Luckily, since MNIST is a very popular dataset, TensorFlow has some built-in functions to download it. \n",
    "\n",
    "The MNIST dataset consists of pairs of images (28x28 matrices) and labels. Each label\n",
    "is represented as a (sparse) binary    vector of length 10 with a 1 in position    `i` iff the image represents digit `i`, and 0 elsewhere. This is what the \"one_hot\" parameter you see below does. "
   ]
  },
  {
   "cell_type": "code",
   "execution_count": 1,
   "metadata": {
    "colab": {
     "autoexec": {
      "startup": false,
      "wait_interval": 0
     },
     "height": 153,
     "output_extras": [
      {
       "item_id": 4
      }
     ]
    },
    "colab_type": "code",
    "executionInfo": {
     "elapsed": 8487,
     "status": "ok",
     "timestamp": 1503657242635,
     "user": {
      "displayName": "Stephan Gouws",
      "photoUrl": "//lh4.googleusercontent.com/-6znVyM1oxdg/AAAAAAAAAAI/AAAAAAAAABI/vEPo2Ce7Rpc/s50-c-k-no/photo.jpg",
      "userId": "102606466886131565871"
     },
     "user_tz": -60
    },
    "id": "IYrNES0hD6Mi",
    "outputId": "258b73ac-670c-4b30-9b67-7fbe07be7c4b"
   },
   "outputs": [
    {
     "name": "stdout",
     "output_type": "stream",
     "text": [
      "Extracting MNIST_data/train-images-idx3-ubyte.gz\n",
      "Extracting MNIST_data/train-labels-idx1-ubyte.gz\n",
      "Extracting MNIST_data/t10k-images-idx3-ubyte.gz\n",
      "Extracting MNIST_data/t10k-labels-idx1-ubyte.gz\n"
     ]
    }
   ],
   "source": [
    "# Import TensorFlow and some other libraries we'll be using.\n",
    "import datetime\n",
    "import numpy as np\n",
    "import tensorflow as tf\n",
    "from tensorflow.examples.tutorials.mnist import input_data\n",
    "\n",
    "# Download the MNIST dataset onto the local machine.\n",
    "mnist = input_data.read_data_sets(\"MNIST_data/\", one_hot=True)"
   ]
  },
  {
   "cell_type": "markdown",
   "metadata": {
    "colab_type": "text",
    "id": "Xdz38ZyZE3vW"
   },
   "source": [
    "# Visualizing the MNIST data"
   ]
  },
  {
   "cell_type": "markdown",
   "metadata": {
    "colab_type": "text",
    "id": "AmblsKmbl9sY"
   },
   "source": [
    "Let's visualize a few of the digits (from the training set): "
   ]
  },
  {
   "cell_type": "code",
   "execution_count": 2,
   "metadata": {
    "colab": {
     "autoexec": {
      "startup": false,
      "wait_interval": 0
     },
     "height": 208,
     "output_extras": [
      {
       "item_id": 1
      }
     ]
    },
    "colab_type": "code",
    "executionInfo": {
     "elapsed": 999,
     "status": "ok",
     "timestamp": 1503055879874,
     "user": {
      "displayName": "Stephan Gouws",
      "photoUrl": "//lh4.googleusercontent.com/-6znVyM1oxdg/AAAAAAAAAAI/AAAAAAAAABI/vEPo2Ce7Rpc/s50-c-k-no/photo.jpg",
      "userId": "102606466886131565871"
     },
     "user_tz": -60
    },
    "id": "JpAbMODcG1se",
    "outputId": "76aa84c7-ee87-45ba-e73d-1476f54ec647"
   },
   "outputs": [
    {
     "data": {
      "image/png": "[encoded data removed]",
      "text/plain": [
       "<matplotlib.figure.Figure at 0x7f316b29c810>"
      ]
     },
     "metadata": {},
     "output_type": "display_data"
    }
   ],
   "source": [
    "from matplotlib import pyplot as plt\n",
    "\n",
    "plt.ioff()\n",
    "%matplotlib inline\n",
    "plt.rcParams['figure.figsize'] = (10.0, 8.0) # set default size of plots\n",
    "plt.rcParams['image.interpolation'] = 'nearest'\n",
    "plt.rcParams['image.cmap'] = 'gray'\n",
    "\n",
    "# Helper plotting routine.\n",
    "def display_images(gens, title=\"\"):\n",
    "    fig, axs = plt.subplots(1, 10, figsize=(25, 3))\n",
    "    fig.suptitle(title, fontsize=14, fontweight='bold')\n",
    "    \n",
    "    for i in xrange(10):\n",
    "        reshaped_img = (gens[i].reshape(28, 28) * 255).astype(np.uint8)\n",
    "        axs.flat[i].imshow(reshaped_img)\n",
    "        #axs.flat[i].axis('off')        \n",
    "    return fig, axs\n",
    "\n",
    "\n",
    "batch_xs, batch_ys = mnist.train.next_batch(10)\n",
    "list_of_images = np.split(batch_xs, 10)\n",
    "_ = display_images(list_of_images, \"Some Examples from the Training Set.\")\n",
    "plt.show()"
   ]
  },
  {
   "cell_type": "markdown",
   "metadata": {
    "colab_type": "text",
    "id": "DrVjQKHlT2m4"
   },
   "source": [
    "# Building a Feed-Forward Neural Network\n",
    "\n",
    "In this section, we will build a neural network that takes the raw MNIST pixels as inputs and outputs 10 values, which we will interpret as the probability that the input image belongs to one of the 10 digit classes (0 through 9). Along the way, the data will pass through the hidden layers and activation functions we encountered in the first practical. \n",
    "\n",
    "**NOTE**: Standard feedforward neural network architectures can be summarised by chaining together the number of neurons in each layer, e.g. \"784-500-300-10\" would be a net with 784 input neurons, followed by a layer with 500 neurons, then 300, and finally 10 output classes. "
   ]
  },
  {
   "cell_type": "markdown",
   "metadata": {
    "colab_type": "text",
    "id": "T2L7D76zYZZv"
   },
   "source": [
    "## Build the model (30min)\n",
    "\n",
    "We want to explore the different choices and some of the best practices of training feedforward neural networks on the MNIST dataset. In this practical we will only be using \"fully connected\" (also referred to as \"FC\", \"affine\", or \"dense\") layers (i.e. no convolutional layers). So let's first write a little helper function to construct these:"
   ]
  },
  {
   "cell_type": "code",
   "execution_count": 4,
   "metadata": {
    "colab": {
     "autoexec": {
      "startup": false,
      "wait_interval": 0
     }
    },
    "colab_type": "code",
    "collapsed": true,
    "id": "my3WeXTdEt34"
   },
   "outputs": [],
   "source": [
    "def _dense_linear_layer(inputs, layer_name, input_size, output_size):\n",
    "    \"\"\"\n",
    "    Builds a layer that takes a batch of inputs of size `input_size` and returns \n",
    "    a batch of outputs of size `output_size`.\n",
    "         \n",
    "    Args:\n",
    "        inputs: A `Tensor` of shape [batch_size, input_size].\n",
    "        layer_name: A string representing the name of the layer.\n",
    "        input_size: The size of the inputs\n",
    "        output_size: The size of the outputs\n",
    "        \n",
    "    Returns:\n",
    "        out, weights: tuple of layer outputs and weights.\n",
    "        \n",
    "    \"\"\"\n",
    "    # Name scopes allow us to logically group together related variables.\n",
    "    # Setting reuse=False avoids accidental reuse of variables between different runs.\n",
    "    with tf.variable_scope(layer_name, reuse=False):\n",
    "        # Create the weights for the layer\n",
    "        layer_weights = tf.get_variable(\"weights\",\n",
    "                                        shape=[input_size, output_size], \n",
    "                                        dtype=tf.float32, \n",
    "                                        initializer=tf.random_normal_initializer())\n",
    "        # Create the biases for the layer\n",
    "        layer_bias = tf.get_variable(\"biases\", \n",
    "                                     shape=[output_size], \n",
    "                                     dtype=tf.float32, \n",
    "                                     initializer=tf.random_normal_initializer())\n",
    "        \n",
    "        ## IMPLEMENT-ME: (1) \n",
    "        outputs = ...\n",
    "    \n",
    "    return (outputs, layer_weights)\n"
   ]
  },
  {
   "cell_type": "markdown",
   "metadata": {
    "colab_type": "text",
    "id": "LTFPjWj7FqJy"
   },
   "source": [
    "Now let's use this to construct a linear softmax classifier as before, which we will expand into a near state-of-the-art feed-forward model for MNIST. We first create an abstract `BaseSoftmaxClassifier` base class that houses common functionality between the models. Each specific model will then provide a `build_model` method that represents the logic of that specific model."
   ]
  },
  {
   "cell_type": "code",
   "execution_count": 5,
   "metadata": {
    "colab": {
     "autoexec": {
      "startup": false,
      "wait_interval": 0
     }
    },
    "colab_type": "code",
    "collapsed": true,
    "id": "oaHvemlxVeIi"
   },
   "outputs": [],
   "source": [
    "class BaseSoftmaxClassifier(object):\n",
    "    def __init__(self, input_size, output_size, l2_lambda):        \n",
    "        # Define the input placeholders. The \"None\" dimension means that the \n",
    "        # placeholder can take any number of images as the batch size. \n",
    "        self.x = tf.placeholder(tf.float32, [None, input_size])\n",
    "        self.y = tf.placeholder(tf.float32, [None, output_size])    \n",
    "        self.input_size = input_size\n",
    "        self.output_size = output_size\n",
    "        self.l2_lambda = l2_lambda\n",
    "\n",
    "        self._all_weights = [] # Used to compute L2 regularization in compute_loss().\n",
    "        \n",
    "        # You should override these in your build_model() function.\n",
    "        self.logits = None\n",
    "        self.predictions = None\n",
    "        self.loss = None\n",
    "        \n",
    "        self.build_model()\n",
    "        \n",
    "    def get_logits(self):\n",
    "        return self.logits\n",
    "    \n",
    "    def build_model(self):\n",
    "        # OVERRIDE THIS FOR YOUR PARTICULAR MODEL.\n",
    "        raise NotImplementedError(\"Subclasses should implement this function!\")\n",
    "        \n",
    "    def compute_loss(self):\n",
    "        \"\"\"All models share the same softmax cross-entropy loss.\"\"\"\n",
    "        assert self.logits is not None    # Ensure that logits has been created! \n",
    "        \n",
    "        # IMPLEMENT-ME: (2)\n",
    "        # HINT: This time, use the TensorFlow function tf.nn.softmax_cross_entropy_with_logits  rather than \n",
    "        # implementing it manually like we did in Prac1\n",
    "        data_loss = ...\n",
    "\n",
    "        reg_loss = 0.\n",
    "        for w in self._all_weights:\n",
    "            # IMPLEMENT-ME: (3)\n",
    "            # HINT: TensorFlow has a built-in function for this too! tf.nn.l2_loss\n",
    "            reg_loss += ...\n",
    "            \n",
    "        return data_loss + self.l2_lambda * reg_loss\n",
    "    \n",
    "    def accuracy(self):\n",
    "        # Calculate accuracy.\n",
    "        assert self.predictions is not None    # Ensure that pred has been created!\n",
    "        \n",
    "        # IMPLEMENT-ME: (4)\n",
    "        # HINT: Look up the tf.equal and tf.argmax functions\n",
    "        correct_prediction = ...\n",
    "        \n",
    "        accuracy = tf.reduce_mean(tf.cast(correct_prediction, \"float\"))\n",
    "        return accuracy"
   ]
  },
  {
   "cell_type": "markdown",
   "metadata": {
    "colab_type": "text",
    "id": "JVqOqr8qKApu"
   },
   "source": [
    "If we wanted to reimplement the linear softmax classifier from before, we just need to override `build_model()` to perform one projection from the input to the output logits, like this:"
   ]
  },
  {
   "cell_type": "code",
   "execution_count": 6,
   "metadata": {
    "colab": {
     "autoexec": {
      "startup": false,
      "wait_interval": 0
     }
    },
    "colab_type": "code",
    "collapsed": true,
    "id": "jLVw-NWEKBI9"
   },
   "outputs": [],
   "source": [
    "class LinearSoftmaxClassifier(BaseSoftmaxClassifier):\n",
    "    def __init__(self, intput_size, output_size, l2_lambda):\n",
    "        super(LinearSoftmaxClassifier, self).__init__(input_size, output_size, l2_lambda)\n",
    "        \n",
    "    def build_model(self):\n",
    "        # The model takes x as input and produces output_size outputs.\n",
    "        self.logits, weights = _dense_linear_layer(\n",
    "                self.x, \"linear_layer\", self.input_size, self.output_size)\n",
    "        \n",
    "        self._all_weights.append(weights)\n",
    "        \n",
    "        self.predictions = tf.nn.softmax(self.logits)\n",
    "        \n",
    "        self.loss = self.compute_loss()\n"
   ]
  },
  {
   "cell_type": "markdown",
   "metadata": {
    "colab_type": "text",
    "id": "A1Lxtrw0KnmW"
   },
   "source": [
    "In order to build a ***deeper*** model, let's add several layers with multiple transformations and rectied linear units (relus):\n",
    "\n",
    "```python\n",
    "def build_model(self):\n",
    "     # The first layer takes x as input and has n_hidden_1 outputs.\n",
    "     layer1, weights1 = _build_linear_layer(self.x, \"layer1\", self.input_size, self.num_hidden_1)\n",
    "     self._all_weights.append(weights1)\n",
    "     layer1 = tf.nn.relu(layer1)\n",
    "        \n",
    "     # The second layer takes layer1's output as its input and has num_hidden_2 outputs.\n",
    "     layer2, weights2 = _build_linear_layer(layer1, \"layer2\", self.num_hidden_1, self.num_hidden_2)\n",
    "     self._all_weights.append(weights2)\n",
    "     layer2 = tf.nn.relu(layer2)\n",
    "     \n",
    "     # The final layer is our predictions and goes from num_hidden_2 inputs to \n",
    "     # num_classes outputs. The outputs are \"logits\" (un-normalised scores). \n",
    "     self.logits, weights3 = _build_linear_layer(layer2, \"output\", self.num_hidden_2, self.output_size)\n",
    "     self._all_weights.append(weights3)\n",
    "     \n",
    "     self.pred = tf.nn.softmax(self.logits)\n",
    "     self.loss = self.compute_loss(self.logits, self.y)\n",
    " ```\n",
    "\n",
    "**Note: Instead of writing special classes for linear nets (0 hidden layers), 1 hidden layer nets, 2 hidden layer nets, etc., we can generalize this as follows:**"
   ]
  },
  {
   "cell_type": "code",
   "execution_count": 7,
   "metadata": {
    "colab": {
     "autoexec": {
      "startup": false,
      "wait_interval": 0
     }
    },
    "colab_type": "code",
    "collapsed": true,
    "id": "QVCIXYUrHXai"
   },
   "outputs": [],
   "source": [
    "class DNNClassifier(BaseSoftmaxClassifier):\n",
    "    \"\"\"DNN = Deep Neural Network - now we're doing Deep Learning! :)\"\"\"\n",
    "    \n",
    "    def __init__(self, \n",
    "                 input_size=784,    # There are 28x28 = 784 pixels in MNIST images\n",
    "                 hidden_sizes=[],    # List of hidden layer dimensions, empty for linear model.\n",
    "                 output_size=10,    # There are 10 possible digit classes\n",
    "                 act_fn=tf.nn.relu,    # The activation function to use in the hidden layers\n",
    "                 l2_lambda=0.):    # The strength of regularisation, off by default.\n",
    "        \n",
    "        self.hidden_sizes = hidden_sizes\n",
    "        self.act_fn = act_fn\n",
    "        super(DNNClassifier, self).__init__(input_size, output_size, l2_lambda)\n",
    "        \n",
    "        \n",
    "    def build_model(self):\n",
    "        prev_layer = self.x\n",
    "        prev_size = self.input_size\n",
    "        \n",
    "        for layer_num, size in enumerate(self.hidden_sizes):        \n",
    "            layer_name = \"layer_\" + str(layer_num)\n",
    "            ## IMPLEMENT-ME: (5)\n",
    "            # HINT: Use the linear function we defined earlier!\n",
    "            layer, weights = ...\n",
    "\n",
    "            self._all_weights.append(weights)\n",
    "            ## IMPLEMENT-ME: (6)\n",
    "            # HINT: What do we still need to do after doing the \"linear\" part? \n",
    "            layer = ...\n",
    "            prev_layer, prev_size = layer, size\n",
    "\n",
    "        # The final layer is our predictions and goes from prev_size inputs to \n",
    "        # output_size outputs. The outputs are \"logits\", un-normalised scores. \n",
    "        self.logits, out_weights = _dense_linear_layer(prev_layer, \"output\", prev_size, self.output_size)\n",
    "        self._all_weights.append(out_weights)\n",
    "        \n",
    "        self.predictions = tf.nn.softmax(self.logits)\n",
    "        self.loss = self.compute_loss()\n",
    "    "
   ]
  },
  {
   "cell_type": "markdown",
   "metadata": {
    "colab_type": "text",
    "id": "aHkH_jEc9C3j"
   },
   "source": [
    "We can now create a linear model, i.e. a 784-10 architecture (note that there is only one possible linear model going from 784 inputs to 10 outputs), as follows:\n",
    "\n",
    "```python\n",
    "    tf_linear_model = DNNClassifier(input_size=784, hidden_sizes=[], output_size=10)\n",
    "```\n",
    "\n",
    "We can create a deep neural network (DNN, also called a \"multi-layer perceptron\") model, e.g. a 784-512-10 architecture (there can be many others...), as follows:\n",
    "\n",
    "```python\n",
    "    tf_784_512_10_model = DNNClassifier(input_size=784, hidden_sizes=[512], output_size=10)\n",
    "```\n",
    "\n",
    "and so forth.\n",
    "\n",
    "**NOTE: Make sure you understand how this works before you move on.**"
   ]
  },
  {
   "cell_type": "markdown",
   "metadata": {
    "colab_type": "text",
    "id": "kVynk3SWzUg_"
   },
   "source": [
    "## Sanity Checks (5-10 min)\n",
    "\n",
    "### Dealing with randomness\n",
    "\n",
    "Pseudo-random number generators start from some value (the 'seed') and generate numbers which appear to be random. It is good practise to seed RNGs with a fixed value to encourage reproducibility of results. We do this in NumPy by using `np.random.seed(1234)`, where `1234` is your chosen seed value. \n",
    "\n",
    "In TensorFlow we can set a *graph-level* seed (global, using `tf.set_random_seed(1234)`) or an *op-level* seed (passed in to each op via the `seed` argument, to override the graph-level seed.)\n",
    "\n",
    "Next we need to initialize the parameters of our model. We do *not* want to initialize all weights to be the same. \n",
    "\n",
    "**QUESTION**: Can you think of why this might be a bad idea? (Think about a simple MLP with one input and 2 hidden units and one output. Look at the contributions via each weight connection to the activations on the hidden layer. Now let those weights be equal. How does that affect the contributions? How does that affect the update that backprop would propose for each weight? Do you see any problems?)\n",
    "\n",
    "The simplest approach is to **initialize weights (W's) to small random values**. For ReLUs specifically, it is recommended to initialize weights to `np.random.randn(n) * sqrt(2.0/n)`, where `n` is the number of inputs to that layer (neuron on the previous layer) (see [He et al., 2015](https://arxiv.org/pdf/1502.01852.pdf) for more information). This initialization encourages the distributions over ReLU activations to have roughly the same variance at each layer, which in turn ensures that useful gradient information gets sent back during backpropagation.\n",
    "\n",
    "Biases are not that sensitive to initialization and can be initialized to 0s or small random numbers.\n",
    "\n",
    "### Check the loss of a random model\n",
    "\n",
    "When we have a new model, it's always a good idea to do a quick sanity check. A random model that predicts C classes on random data should have no reason for preferring either class, i.e., on average its loss (negative log-likelihood) should be $-\\log(1/C) = -\\log(C^{-1}) = \\log(C)$. \n",
    "\n",
    "**NOTE**: TF actually computes the cross-entropy on the *logits* for numerical stability reasons (logs of small numbers blow up quickly..). This means we'll get a different value from `tf.nn.softmax_cross_entropy_with_logits`. So for this check we will just manually compute the cross-entropy (negative log-likelihood).\n",
    "\n",
    "The second thing to check is that adding the L2 loss (a strictly positive value), should *increase* total loss (here we'll just use the TF cross-entropy as provided)."
   ]
  },
  {
   "cell_type": "code",
   "execution_count": 8,
   "metadata": {
    "colab": {
     "autoexec": {
      "startup": false,
      "wait_interval": 0
     },
     "height": 408,
     "output_extras": [
      {
       "item_id": 2
      }
     ]
    },
    "colab_type": "code",
    "executionInfo": {
     "elapsed": 1026,
     "status": "ok",
     "timestamp": 1503657319275,
     "user": {
      "displayName": "Stephan Gouws",
      "photoUrl": "//lh4.googleusercontent.com/-6znVyM1oxdg/AAAAAAAAAAI/AAAAAAAAABI/vEPo2Ce7Rpc/s50-c-k-no/photo.jpg",
      "userId": "102606466886131565871"
     },
     "user_tz": -60
    },
    "id": "DUMQp9kw0Isx",
    "outputId": "b8d7a421-e489-4b54-a896-aa2da2435020"
   },
   "outputs": [
    {
     "name": "stdout",
     "output_type": "stream",
     "text": [
      "Sample of random data:\n",
      "[[ 0.47143516 -1.19097569  1.43270697 ..., -0.2453605  -1.26943186\n",
      "  -0.26232386]\n",
      " [ 2.33759848 -0.78171744  0.08009975 ..., -0.64055353  1.76256841\n",
      "  -0.08567302]\n",
      " [ 1.63617833 -0.54410827 -1.04999868 ..., -0.90640906  0.31915076\n",
      "  -0.49914386]\n",
      " [-0.66039926  0.0774697   0.38755182 ...,  0.31019053  1.87791254\n",
      "  -0.70183467]\n",
      " [-3.23350453  0.20024296 -0.13933709 ..., -0.72622006  0.50774695\n",
      "   0.18987136]]\n",
      "Shape:  (100, 784)\n",
      "Sample of random labels:\n",
      "[[ 0.  0.  0.  0.  0.  1.  0.  0.  0.  0.]\n",
      " [ 0.  0.  0.  0.  0.  0.  0.  0.  1.  0.]\n",
      " [ 0.  0.  0.  0.  0.  0.  0.  0.  1.  0.]\n",
      " [ 0.  0.  0.  0.  0.  1.  0.  0.  0.  0.]\n",
      " [ 0.  0.  0.  0.  0.  0.  0.  0.  1.  0.]]\n",
      "Shape:  (100, 10)\n",
      "\n",
      "Sanity check manual avg cross entropy:  2.30259\n",
      "Model loss (no reg):  46.3142\n",
      "Sanity check loss (with regularization, should be higher):  4025.31\n"
     ]
    }
   ],
   "source": [
    "tf.set_random_seed(1234)\n",
    "np.random.seed(1234)\n",
    "\n",
    "# Generate a batch of 100 \"images\" of 784 pixels consisting of Gaussian noise.\n",
    "x_rnd = np.random.randn(100, 784)\n",
    "print \"Sample of random data:\\n\", x_rnd[:5,:]    # Print the first 5 \"images\"\n",
    "print \"Shape: \", x_rnd.shape\n",
    "# Generate some random one-hot labels.\n",
    "y_rnd = np.eye(10)[np.random.choice(10, 100)]\n",
    "print \"Sample of random labels:\\n\", y_rnd[:5,:]\n",
    "print \"Shape: \", y_rnd.shape\n",
    "\n",
    "# Model without regularization.\n",
    "tf.reset_default_graph()\n",
    "tf_linear_model = DNNClassifier(l2_lambda=0.0)\n",
    "x, y = tf_linear_model.x, tf_linear_model.y\n",
    "\n",
    "with tf.Session() as sess:\n",
    "    # Initialize variables.\n",
    "    init = tf.global_variables_initializer()\n",
    "    sess.run(init)\n",
    "    \n",
    "    avg_cross_entropy = -tf.log(tf.reduce_mean(tf_linear_model.predictions))\n",
    "    loss_no_reg = tf_linear_model.loss\n",
    " \n",
    "    manual_avg_xent, loss_no_reg = sess.run([avg_cross_entropy, loss_no_reg],\n",
    "                                            feed_dict={x : x_rnd, y: y_rnd})\n",
    "    \n",
    "    \n",
    "# Sanity check: Loss should be about log(10) = 2.3026\n",
    "print '\\nSanity check manual avg cross entropy: ', manual_avg_xent\n",
    "print 'Model loss (no reg): ', loss_no_reg\n",
    "\n",
    "# Model with regularization.\n",
    "tf.reset_default_graph()\n",
    "tf_linear_model = DNNClassifier(l2_lambda=1.0)\n",
    "x, y = tf_linear_model.x, tf_linear_model.y\n",
    "\n",
    "with tf.Session() as sess:\n",
    "    # Initialize variables.\n",
    "    init = tf.global_variables_initializer()\n",
    "    sess.run(init)\n",
    "    loss_w_reg = tf_linear_model.loss.eval(feed_dict={x : x_rnd, y: y_rnd})\n",
    "\n",
    "# Sanity check: Loss should go up when you add regularization\n",
    "print 'Sanity check loss (with regularization, should be higher): ', loss_w_reg"
   ]
  },
  {
   "cell_type": "markdown",
   "metadata": {
    "colab_type": "text",
    "id": "X0YXZ-u284tK"
   },
   "source": [
    "## Compute the gradients: Backpropagation Review\n",
    "\n",
    "Once one has implemented the model and checked that the loss produces sensible outputs it is time to create the training loop. For this, we will need to obtain the gradients of the loss wrt each model parameter. We've already looked at this in detail in practical 1, where we performed this manually. One of the great benefits of using a library like TensorFlow, is that it can automatically derive the gradients wrt any parameter in the graph (using `tf.gradients()`).\n",
    "\n",
    "In the previous practical we saw that there is a common pattern to deriving the gradients in neural networks:\n",
    "\n",
    "1. propagate activations forward through the network (\"make a prediction\" $\\Rightarrow$ `fprop`),\n",
    "2. compute an error delta (\"see how far we're off\") , and\n",
    "3. propagate errors backwards to update the weights (\"update the weights to do better next time\" $\\Rightarrow$ `backprop`).\n",
    "\n",
    "It turns out that for deeper networks, ***this pattern repeats for every new layer***. Take a deep breath, and let's dive in, starting with fprop:\n",
    "\n",
    "### FPROP\n",
    "\n",
    "Conceptually, forward propagation is very simple: Starting with the input `x`, we repeatedly apply an affine function and a non-linearity to arrive at the output $a^L = \\sigma^L(W^{L-1}\\sigma^{L-1}( \\ldots \\sigma(W^1x + b^1) \\dots ) + b^{L-1})$. \n",
    "\n",
    "Mathematically, forward propagation comes down to a **composition of functions**. So for two layers, the output activation $a^2$ is the composition of the function $a^1 = f^1(x)$ and $a^2 = f^2(a^1)$ $\\Rightarrow$ $a^2 = f^2(f^1(x))$.\n",
    "\n",
    "**NOTE**: We save both the pre-activations (before the non-linearity) *and* the (post-)activations (after the nonlinearity). We'll need these for the backprop phase!\n",
    "\n",
    "In code it looks like this:"
   ]
  },
  {
   "cell_type": "code",
   "execution_count": 9,
   "metadata": {
    "colab": {
     "autoexec": {
      "startup": false,
      "wait_interval": 0
     }
    },
    "colab_type": "code",
    "id": "BKxO41QtW0ka"
   },
   "outputs": [
    {
     "ename": "SyntaxError",
     "evalue": "invalid syntax (<ipython-input-9-fe5acd516f4c>, line 17)",
     "output_type": "error",
     "traceback": [
      "\u001b[0;36m  File \u001b[0;32m\"<ipython-input-9-fe5acd516f4c>\"\u001b[0;36m, line \u001b[0;32m17\u001b[0m\n\u001b[0;31m    return cache # Per-layer pre- and post-activations.\u001b[0m\n\u001b[0m         ^\u001b[0m\n\u001b[0;31mSyntaxError\u001b[0m\u001b[0;31m:\u001b[0m invalid syntax\n"
     ]
    }
   ],
   "source": [
    "# PSEUDOCODE:\n",
    "\n",
    "def fprop(x, weights, biases, per_layer_nonlinearities):\n",
    "\n",
    "    # Initialise the input. We pretend inputs are the first pre- and post-activations.\n",
    "    z = a = x\n",
    "    cache = [(z, a)] # We'll save z's and a's for the backprop phase.\n",
    "    \n",
    "    for W, b, act_fn in zip(weights, biases, per_layer_nonlinearities): \n",
    "        \n",
    "        z = np.dot(W, a) + b        # \"pre-activations\" / logits\n",
    "        a = act_fn(z)               # \"outputs\" / (post-)activations of the current layer\n",
    "        \n",
    "        # NOTE: We save both pre-activations and (post-)activations for the backwards phase!\n",
    "        cache.append((z, a)\n",
    "            \n",
    "    return cache # Per-layer pre- and post-activations."
   ]
  },
  {
   "cell_type": "markdown",
   "metadata": {
    "colab_type": "text",
    "id": "yeQ6_uE5asVK"
   },
   "source": [
    "### BACKPROP\n",
    "\n",
    "Given a loss or error function $E$ at the output (e.g. cross-entropy), we then need the derivative of the loss wrt each of the model parameters in order to train the network (decrease the loss). Mathematically, this comes down to the derivative of a composition of functions, and from calculus we know we have the [chain rule](https://en.wikipedia.org/wiki/Chain_rule) for that: If $a = f(g(x))$, then $\\frac{\\partial a}{\\partial x} = \\frac{\\partial f}{\\partial g} \\frac{\\partial g}{\\partial x}$.\n",
    "\n",
    "In order to get the gradients on some intermediate parameter $\\theta^i = \\{W^i, b^i\\}$ in layer $i$, we just apply the chain rule over all $L$ 'layers' of this composition of functions (the neural network) to derive the intermediate gradients:\n",
    "\n",
    "\\begin{aligned}\n",
    "    \\frac{\\partial E}{\\partial \\theta^{(i)}} \n",
    "        &= \\underbrace{ \\frac{\\partial E}{\\partial z^{(L)}} \\frac{\\partial z^{(L)}}{\\partial z^{(L-1)}} \\ldots \\frac{\\partial z^{(i+2)}}{\\partial z^{(i+1)}}}_{\\triangleq \\delta^{(i+1)}} \\frac{\\partial z^{(i+1)}}{\\partial \\theta^{(i)}} \\\\\n",
    "    &= \\delta^{(i+1)} \\frac{\\partial z^{(i+1)}}{\\partial \\theta^{(i)}}\n",
    "\\end{aligned}\n",
    "\n",
    "We have glossed a little over the fact that we are dealing with matrices and vectors, for the sake of brevity. But please see these two great resources:\n",
    "* For a step-by-step walk-through of the mechanics of backpropagation, see [this great resource](http://cs224d.stanford.edu/lecture_notes/notes3.pdf).\n",
    "* For a great brush-up on the mechanics of vector calculus, see [this fantastic note](https://web.stanford.edu/class/cs224n/lecture_notes/cs224n-2017-gradient-notes.pdf) (for the same course).\n",
    "\n",
    "**NOTE**: \n",
    "* $E$ is the error/loss function at the output.\n",
    "* $W^{(i)}$ is an intermediate weight matrix mapping activations from layer $i$ to pre-activations $z^{(i+1)}$ at layer $i+1$.\n",
    "* The derivative with respect to the *inputs* of layer $i$ are called deltas and is defined as $\\delta^{(i)} \\triangleq \\frac{\\partial E}{\\partial z^{(i)}}$. \n",
    "    * $\\delta^i$ is a vector (the size of the layer $i$), and is the result of the deltas at the output $\\delta^L$ (dE/dlogits) multiplied by a product of [Jacobian matrices](https://en.wikipedia.org/wiki/Jacobian_matrix_and_determinant). If you don't understand this statement, just think of $\\delta^i_j$ as the contribution that unit $j$ in layer $i$ made to the total error $E$. Also, read up on this in the resources linked above.\n",
    "    * **NB**: $z^{(i)}$ are the pre-activations (\"logits\" at the output layer)!\n",
    "* $\\frac{\\partial z^{(i+1)}}{\\partial W^{(i)}} = \\frac{\\partial (W^{(i)}a^i + b^i)}{\\partial W^{(i)}} = a^i$. \n",
    "* Likewise, $\\frac{\\partial z^{(i+1)}}{\\partial b^{(i)}} = 1$ (check this for yourself).\n",
    "\n",
    "\n",
    "**QUESTIONS**: \n",
    "1. What is the shape of $\\frac{\\partial E}{\\partial \\mathbb{W}^{(i)}}$?\n",
    "    * Convince yourself (now or later) that $\\frac{\\partial E}{\\partial W^{(i)}_{jk}} = \\delta^{(i+1)}_k {a^i_j}$ (a scalar), and therefore $\\frac{\\partial E}{\\partial \\mathbb{W}^{(i)}} = \\mathbb{\\delta}^{(i+1)} {\\mathbb{a}^i}^T$ (outer product of two vectors, therefore a matrix of the same shape as $W^i$). \n",
    "    * **In words: The gradient on weights $W^i$ at layer $i$ is the outer product of the deltas-vector from the layer above $\\delta^{(i+1)}$ and the activations vector from the layer below $a^i$.**\n",
    "\n",
    "2. What is the shape of $\\frac{\\partial E}{\\partial \\mathbb{b}^{(i)}}$?\n",
    "    * Convince yourself (now or later) that $\\frac{\\partial E}{\\partial \\mathbb{b}^{(i)}} = \\mathbb{\\delta}^{(i+1)}$ (a vector of the same length as $b^i$).\n",
    "    * **In words: The gradient on biases $b^i$ at layer $i$ is equal to the deltas at the layer above**.\n",
    "3. Make sure you understand why we save the `(z,a)`'s during fprop, and how we use them during backprop.\n",
    "\n",
    "\n",
    "Note that we need to compute the deltas at every layer, and $\\delta^i$ share all the terms of $\\delta^{(i+1)}$ (which we've already computed), except one. Backprop has one more trick up its sleeve, and that is to *reuse previously computed values to save computation* (this is called [dynamic programming](https://en.wikipedia.org/wiki/Dynamic_programming)). For the deltas, this comes down to computing $\\delta^{(i)}$ given $\\delta^{(i+1)}$. We won't show the full derivation (but we again use the chain rule, see the notes linked above) to arrive at:\n",
    "\n",
    "\\begin{align}\n",
    "    \\delta^{(i)} &= \\frac{\\partial E}{\\partial z^{(i)}} \\\\\n",
    "                             &= \\ldots \\\\\n",
    "                             &= \\underbrace{ \\left[ \\delta^{(i+1)} {\\mathbb{W}^{(i)}}^T \\right] }_\\textrm{Map the global delta 'backwards' through W up to layer $i$} \\circ \\underbrace{ \\sigma'(z^{(i)}) }_\\textrm{Correct for the local errors at this layer.}.\n",
    "\\end{align}\n",
    "\n",
    "**In words: The delta on the current layer $i$ is the delta on the layer above $\\delta^{(i+1)}$ multiplied by the transpose weights matrix between the two layers $W^i$ to yield a vector, scaled by the element-wise multiplication of $\\sigma'(z^{(i)})$ (the derivative of the non-linearity applied to the original pre-activations).**\n",
    "\n",
    "**QUESTIONs**: Look at the code below and make sure you understand (at least conceptually) how this works."
   ]
  },
  {
   "cell_type": "code",
   "execution_count": 10,
   "metadata": {
    "colab": {
     "autoexec": {
      "startup": false,
      "wait_interval": 0
     }
    },
    "colab_type": "code",
    "collapsed": true,
    "id": "_tNoN3q4azpx"
   },
   "outputs": [],
   "source": [
    "# PSEUDOCODE\n",
    "\n",
    "def backprop(target, fprop_cache, weights):\n",
    "    \n",
    "    # Pop/remove the model prediction (last activation `a` we computed above) \n",
    "    # off the cache we created during the fprop phase.\n",
    "    (_, pred) = fprop_cache.pop() \n",
    "    \n",
    "    # Intialise delta^{L} (at the output layer) as dE/dz (cross-entropy).\n",
    "    delta_above = (target - pred)         \n",
    "    grads = []\n",
    "    \n",
    "    # Unroll backwards from the output:\n",
    "    for (z_below, a_below), W_between in reversed(zip(fprop_cache, weights)):\n",
    "        \n",
    "        # Compute dE/dW:\n",
    "        Wgrad = np.dot(delta_above, a_below.T) # Outer product\n",
    "        \n",
    "        # Compute dE/db:\n",
    "        bgrad = delta_above     \n",
    "        \n",
    "        # Save these:\n",
    "        grads.append((Wgrad, bgrad))\n",
    "        \n",
    "        # Update for the *next* iteration/layer. Note the elem-wise multiplication.\n",
    "        # Note the use of z_below, the preactivations in the layer below!\n",
    "        # delta^i = delta^{(i+1)}.(W^i)^T .* sigma'(z_i):\n",
    "        delta_above = np.dot(delta_above, W_between.T) * dsigmoid(z_below)\n",
    "    \n",
    "    grads.reverse()\n",
    "    return grads"
   ]
  },
  {
   "cell_type": "markdown",
   "metadata": {
    "colab_type": "text",
    "id": "EvvygszheFJ1"
   },
   "source": [
    "Ppphhhhhheeeeewwwww, ok, come up for a breather. We know. This takes a while to wrap your head around. For now, just try to get the high-level picture! Depending on your background, this may well be the toughest part of the week. \n",
    "\n",
    "**BACKPROP SUMMARY NOTE**: It helps to have a good idea of what backprop does, and for this it helps to work through one example by hand (see the linked notes above). But you don't need to understand every detail above for the rest of this and the following lectures. The good news is that in practise you won't compute gradients by hand, and all of the above is done for us by `tf.gradients()` (or the similar function in other packages)!\n",
    "\n",
    "**BACKPROP FINAL QUESTION**:    Take a few minutes to explain the high-level details of the backprop algorithm to your neighbour. Try to understand how fprop is essentially just a composition of functions applied to the input, and backprop 'peels off' those compositions one by one by following the chain rule. In the process it avoids recomputation by saving activations during fprop, and computing deltas during backprop. Be sure to ask the tutors if you're stuck!\n"
   ]
  },
  {
   "cell_type": "code",
   "execution_count": 11,
   "metadata": {
    "colab": {
     "autoexec": {
      "startup": false,
      "wait_interval": 0
     }
    },
    "colab_type": "code",
    "id": "McPVC7ejezyZ"
   },
   "outputs": [
    {
     "data": {
      "text/plain": [
       "'\\n# PSEUDOCODE:\\n\\nbiases, weights = [b1, b2], [W1, W2]\\nx, y = ..., ...\\nnon_linearities = [relu, softmax]\\n\\nfprop_cache = fprop(x, weights, biases, non_linearities)\\ngrads = backprop(y, fprop_cache, weights)\\n'"
      ]
     },
     "execution_count": 11,
     "metadata": {},
     "output_type": "execute_result"
    }
   ],
   "source": [
    "\"\"\"\n",
    "# PSEUDOCODE:\n",
    "\n",
    "biases, weights = [b1, b2], [W1, W2]\n",
    "x, y = ..., ...\n",
    "non_linearities = [relu, softmax]\n",
    "\n",
    "fprop_cache = fprop(x, weights, biases, non_linearities)\n",
    "grads = backprop(y, fprop_cache, weights)\n",
    "\"\"\""
   ]
  },
  {
   "cell_type": "markdown",
   "metadata": {
    "colab_type": "text",
    "id": "lCu7TiQ7Lygf"
   },
   "source": [
    "## Training deep neural networks (10min)\n",
    "\n",
    "Now that we have a model with a loss and gradients, let's write a function to train it! This will be largely similar to the `train_tf_model()` function (same name, see below) from the previous practical. However, we are introducing several new concepts in this practical:\n",
    "\n",
    "* how to update parameters using different optimizers, \n",
    "* model complexity and how to match this to your data: \n",
    "    * recognizing overfitting \n",
    "    * adding regularization (L2, dropout)\n",
    "* knowing when to stop training: early stopping,\n",
    "\n",
    "As we go through these concepts, we will show how to use them in our training function.\n",
    "\n",
    "### Optimizers\n",
    "\n",
    "Training neural networks involves solving an optimization problem. **Stochastic gradient-based methods** are by far the most popular family of techniques that are being used for this. These methods evaluate the gradient of the loss on a small part of the data (called a **mini-batch**), and then propose a small change to the weights based on the current sample (and some maintain running averages over the previous steps), that reduces the loss, before moving on to another sample of the data:\n",
    "\n",
    "```\n",
    "step = optimizer(grad(cost), learning_rate, ...) \n",
    "new_weights = old_weights + step\n",
    "```\n",
    "\n",
    "The oldest algorithm is stochastic gradient descent, but there are many others (Adagrad, AdaDelta, RMSProp, ADAM, etc.). As a general rule of thumb, ADAM or SGD with Momentum tend to work quite well out of the box, but this depends on your model and your data! See these two great blog posts for more on this: \n",
    "\n",
    "* http://ruder.io/optimizing-gradient-descent/\n",
    "* https://medium.com/towards-data-science/types-of-optimization-algorithms-used-in-neural-networks-and-ways-to-optimize-gradient-95ae5d39529f\n",
    "\n",
    "In our code, we can select different optimization functions by passing in a different optimizer to `train_tf_model` (see the full list here: https://www.tensorflow.org/api_guides/python/train#Optimizers) as follows:\n",
    "\n",
    "```python\n",
    "\n",
    "optimizer = tf.train.RMSProp(...)\n",
    "results_tuple = train_tf_model(optimizer_fn=optimizer, ...)\n",
    "```\n",
    "\n",
    "### Training / validation / test splits\n",
    "\n",
    "When training supervised machine learning models, the goal is to build a model that will perform well on some test task with data that we'll obtain some time in the future. Unfortunately, until we solve time-travel, we don't yet have access to that data. So how do we train a model on data we have now, to perform well on some (unseen) data from the future? This, in a nutshell, is the statistical learning problem: we want to train a data on available data to **generalize** to unseen test data.\n",
    "\n",
    "The way we approach this is to take a dataset that we do have, and split it into a **training**, **validation**, and **test set** (split). Typically we will use ratios of 80/10/10 for example. We then train our model on the training set only, and use the validation set to make all kinds of decisions about architectural selection, hyperparameters, etc. When we're done, we evaluate our model and report its accuracy on the **test set only**. \n",
    "\n",
    "**NOTE**: We (typically) do not train on the validation set, and we **never** train on the test set. Think about why training on the test set might be a bad thing?\n",
    "\n",
    "### Model complexity, overfitting & regularization\n",
    "\n",
    "**Overfitting** occurs when improving the model's training loss (its performance on training data) comes at the expense of its **generalisation ability** (its performance on unseen test data). Generally it is a symptom of the **model complexity** increasing to fit the peculiarities (outliers) of the training data too accurately, causing it not to generalize well to new unseen (test) data. Overfitting is usually indicated when:\n",
    "\n",
    "* training & validation loss starts decreasing at different rates,\n",
    "* validation error starts increasing while training error still goes down,\n",
    "* training error reaches 0.\n",
    "\n",
    "**Underfitting** is the opposite: when a model cannot fit the training data well enough (usually a sign to train for longer or add more parameters to the model).\n",
    "\n",
    "You can think of complexity as how \"wiggly\" or \"wrinkly\" the decision boundary that the model can represent is. We can increase model complexity by adding more layers (i.e. more parameters). We can control or reduce the model complexity of an architecture using a family of techniques called **regularisers**. We've already encountered L2-regularisation (also called **weight-decay**), where we penalise the model for having very large weights. Another option is L1 regularization (which encourages sparsity of weights). Another very popular current technique is called **dropout** (we'll look at this in more detail in Practical 3). There are many others, but these two are the most popular.\n",
    "\n",
    "We will only be using L2 regularization in this practical. It can be set by passing a non-zero value to `l2_lambda` when constructing a `DNNClassifier` instance.\n",
    "\n",
    "### Early stopping\n",
    "\n",
    "Neural networks are nonlinear models and can have very complicated optimization landscapes. Stochastic gradient based methods for optimizing these loss functions do not proceed monotonically (i.e. does not just keep going up). Sometimes the loss can go down for a while before it goes up to reach a better part of parameter space later. How do we know when to stop training?\n",
    "\n",
    "**Early stopping** is one technique that helps with this. It is added to the training routine and means that we periodically evaluate the model's performance on the validation set (***Crucially! not the test set. Why?***). If the performance on the validation set starts becoming worse we know we have reached the point of overfitting (usually), so it usually makes sense to stop training and not waste any more computations. The `train_tf_model` function we build has an early-stopping feature that you can enable by passing the `stop_early=True` parameter. Have a look at the code to see how this is done. \n",
    "\n",
    "![early stopping](images/early_stopping.png \"Diagram illustrating early stopping using validation results\")\n",
    "\n",
    "For this practical, we just implemented the most basic idea of early stopping: stop training as soon as the model starts doing worse on validation data. However, there are different ways of implementing this idea. Two of the most popular are \n",
    "\n",
    "* \"early stopping with patience\": don't stop training immediately once validation accuracy degrades, but wait for P more epochs, and reset P if the model starts improving again within this timeframe,\n",
    "* training for T epochs, and simply selecting the best model based on validation score over the entire T epochs.\n",
    "\n",
    "**QUESTION**: What are the pros and cons of these different methods?\n",
    "\n",
    "\n",
    "\n",
    "## Wrapping these ideas into the training function (10-15min)\n",
    "\n",
    "The training function below implements all the ideas we discussed above."
   ]
  },
  {
   "cell_type": "code",
   "execution_count": 17,
   "metadata": {
    "colab": {
     "autoexec": {
      "startup": false,
      "wait_interval": 0
     }
    },
    "colab_type": "code",
    "collapsed": true,
    "id": "gCADIJteG816"
   },
   "outputs": [],
   "source": [
    "class MNISTFraction(object):\n",
    "    \"\"\"A helper class to extract only a fixed fraction of MNIST data.\"\"\"\n",
    "    def __init__(self, mnist, fraction):\n",
    "        self.mnist = mnist\n",
    "        self.num_images = int(mnist.num_examples * fraction)\n",
    "        self.image_data, self.label_data = mnist.images[:self.num_images], mnist.labels[:self.num_images]\n",
    "        self.start = 0\n",
    "        \n",
    "    def next_batch(self, batch_size):\n",
    "        start = self.start\n",
    "        end = min(start + batch_size, self.num_images)\n",
    "        self.start = 0 if end == self.num_images else end\n",
    "        return self.image_data[start:end], self.label_data[start:end]"
   ]
  },
  {
   "cell_type": "code",
   "execution_count": 18,
   "metadata": {
    "colab": {
     "autoexec": {
      "startup": false,
      "wait_interval": 0
     }
    },
    "colab_type": "code",
    "collapsed": true,
    "id": "C52suFUDsami"
   },
   "outputs": [],
   "source": [
    "def train_tf_model(tf_model,                                     \n",
    "                   session,    # The active session.\n",
    "                   num_epochs,    # Max epochs/iterations to train for.\n",
    "                   batch_size=50,    # Number of examples per batch.\n",
    "                   keep_prob=1.0,    # (1. - dropout) probability, none by default.\n",
    "                   train_only_on_fraction=1.,    # Fraction of training data to use.\n",
    "                   optimizer_fn=None,    # The optimizer we want to use\n",
    "                   report_every=1, # Report training results every nr of epochs.\n",
    "                   eval_every=1,    # Evaluate on validation data every nr of epochs.\n",
    "                   stop_early=True,    # Use early stopping or not.\n",
    "                   verbose=True): \n",
    "\n",
    "    # Get the (symbolic) model input, output, loss and accuracy.\n",
    "    x, y = tf_model.x, tf_model.y\n",
    "    loss = tf_model.loss\n",
    "    accuracy = tf_model.accuracy()\n",
    "\n",
    "    # Compute the gradient of the loss with respect to the model parameters \n",
    "    # and create an op that will perform one parameter update using the specific\n",
    "    # optimizer's update rule in the direction of the gradients.\n",
    "    if optimizer_fn is None:\n",
    "        optimizer_fn = tf.train.AdamOptimizer()\n",
    "    optimizer_step = optimizer_fn.minimize(loss)\n",
    "\n",
    "    # Get the op which, when executed, will initialize the variables.\n",
    "    init = tf.global_variables_initializer()\n",
    "    # Actually initialize the variables (run the op).\n",
    "    session.run(init)\n",
    "\n",
    "    # Save the training loss and accuracies on training and validation data.\n",
    "    train_costs = []\n",
    "    train_accs = []\n",
    "    val_costs = []\n",
    "    val_accs = []\n",
    "\n",
    "    if train_only_on_fraction < 1:\n",
    "        mnist_train_data = MNISTFraction(mnist.train, train_only_on_fraction)\n",
    "    else:\n",
    "        mnist_train_data = mnist.train\n",
    "    \n",
    "    prev_c_eval = 1000000\n",
    "    \n",
    "    # Main training cycle.\n",
    "    for epoch in range(num_epochs):\n",
    "\n",
    "        avg_cost = 0.\n",
    "        avg_acc = 0.\n",
    "        total_batch = int(train_only_on_fraction * mnist.train.num_examples / batch_size)\n",
    "\n",
    "        # Loop over all batches.\n",
    "        for i in range(total_batch):\n",
    "            batch_x, batch_y = mnist_train_data.next_batch(batch_size)\n",
    "                        \n",
    "            # Run optimization op (backprop) and cost op (to get loss value),\n",
    "            # and compute the accuracy of the model.\n",
    "            feed_dict = {x: batch_x, y: batch_y}\n",
    "            if keep_prob < 1.:\n",
    "                feed_dict[\"keep_prob:0\"] = keep_prob\n",
    "                \n",
    "            _, c, a = session.run(\n",
    "                    [optimizer_step, loss, accuracy], feed_dict=feed_dict)\n",
    "                        \n",
    "            # Compute average loss/accuracy\n",
    "            avg_cost += c / total_batch\n",
    "            avg_acc += a / total_batch            \n",
    "        \n",
    "        train_costs.append((epoch, avg_cost))\n",
    "        train_accs.append((epoch, avg_acc))\n",
    "\n",
    "        # Display logs per epoch step\n",
    "        if epoch % report_every == 0 and verbose:\n",
    "            print \"Epoch:\", '%04d' % (epoch+1), \"Training cost=\", \\\n",
    "                        \"{:.9f}\".format(avg_cost)\n",
    "                \n",
    "        if epoch % eval_every == 0:\n",
    "            val_x, val_y = mnist.validation.images, mnist.validation.labels            \n",
    "            \n",
    "            feed_dict = {x : val_x, y : val_y}\n",
    "            if keep_prob < 1.:\n",
    "                feed_dict['keep_prob:0'] = 1.0\n",
    "                \n",
    "            c_eval, a_eval = session.run([loss, accuracy], feed_dict=feed_dict)\n",
    "            \n",
    "            if verbose:\n",
    "                print \"Epoch:\", '%04d' % (epoch+1), \"Validation acc=\", \\\n",
    "                            \"{:.9f}\".format(a_eval)\n",
    "                \n",
    "            if c_eval >= prev_c_eval and stop_early:\n",
    "                print \"Validation loss stopped improving, stopping training early after %d epochs!\" % (epoch + 1)\n",
    "                break\n",
    "                \n",
    "            prev_c_eval = c_eval\n",
    "                \n",
    "            val_costs.append((epoch, c_eval))\n",
    "            val_accs.append((epoch, a_eval))\n",
    "            \n",
    "    \n",
    "    print \"Optimization Finished!\"\n",
    "    return train_costs, train_accs, val_costs, val_accs\n",
    "\n",
    "    "
   ]
  },
  {
   "cell_type": "code",
   "execution_count": 19,
   "metadata": {
    "colab": {
     "autoexec": {
      "startup": false,
      "wait_interval": 0
     }
    },
    "colab_type": "code",
    "collapsed": true,
    "id": "AecVBHLe2USG"
   },
   "outputs": [],
   "source": [
    "# Helper functions to plot training progress.\n",
    "\n",
    "def my_plot(list_of_tuples):\n",
    "    \"\"\"Take a list of (epoch, value) and split these into lists of \n",
    "    epoch-only and value-only. Pass these to plot to make sure we\n",
    "    line up the values at the correct time-steps.\n",
    "    \"\"\"\n",
    "    plt.plot(*zip(*list_of_tuples))\n",
    "\n",
    "def plot_multi(values_lst, labels_lst, y_label, x_label='epoch'):\n",
    "    # Plot multiple curves.\n",
    "    assert len(values_lst) == len(labels_lst)\n",
    "    plt.subplot(2, 1, 2)\n",
    "    \n",
    "    for v in values_lst:\n",
    "        my_plot(v)\n",
    "    plt.legend(labels_lst, loc='upper left')\n",
    "    \n",
    "    plt.xlabel(x_label)\n",
    "    plt.ylabel(y_label)\n",
    "    plt.show()    \n"
   ]
  },
  {
   "cell_type": "markdown",
   "metadata": {
    "colab_type": "text",
    "id": "hyJG8AQPL_BH"
   },
   "source": [
    "## Wrapping everything together and verifying that it works (10min)\n",
    "\n",
    "Once we have a training function, it is usually a good idea to train on a small amount of your data first to verify that everything is indeed working. We can put all the pieces together to achieve this as follows:"
   ]
  },
  {
   "cell_type": "code",
   "execution_count": 15,
   "metadata": {
    "colab": {
     "autoexec": {
      "startup": false,
      "wait_interval": 0
     },
     "height": 289,
     "output_extras": [
      {
       "item_id": 4
      }
     ]
    },
    "colab_type": "code",
    "executionInfo": {
     "elapsed": 1198,
     "status": "ok",
     "timestamp": 1503071394643,
     "user": {
      "displayName": "Stephan Gouws",
      "photoUrl": "//lh4.googleusercontent.com/-6znVyM1oxdg/AAAAAAAAAAI/AAAAAAAAABI/vEPo2Ce7Rpc/s50-c-k-no/photo.jpg",
      "userId": "102606466886131565871"
     },
     "user_tz": -60
    },
    "id": "guiSbTOIMAUm",
    "outputId": "32e73f8e-81de-4a8c-d7bb-1bd2286f8050"
   },
   "outputs": [
    {
     "name": "stdout",
     "output_type": "stream",
     "text": [
      "Epoch: 0001 Training cost= 22.728044510\n",
      "Epoch: 0001 Validation acc= 0.075199999\n",
      "Epoch: 0002 Training cost= 21.128668196\n",
      "Epoch: 0003 Training cost= 19.666281579\n",
      "Epoch: 0003 Validation acc= 0.081200004\n",
      "Epoch: 0004 Training cost= 18.349199122\n",
      "Epoch: 0005 Training cost= 17.178852853\n",
      "Epoch: 0005 Validation acc= 0.090599999\n",
      "Epoch: 0006 Training cost= 16.147987530\n",
      "Epoch: 0007 Training cost= 15.243225618\n",
      "Epoch: 0007 Validation acc= 0.094599999\n",
      "Epoch: 0008 Training cost= 14.447481615\n",
      "Epoch: 0009 Training cost= 13.744003599\n",
      "Epoch: 0009 Validation acc= 0.101599999\n",
      "Epoch: 0010 Training cost= 13.119138050\n",
      "Optimization Finished!\n",
      "Accuracy on test set: 0.1226\n"
     ]
    }
   ],
   "source": [
    "##### BUILD MODEL #####\n",
    "tf.reset_default_graph()    # Clear the graph.\n",
    "model = DNNClassifier()     # Choose model hyperparameters.\n",
    "\n",
    "with tf.Session() as sess:\n",
    "\n",
    "    ##### TRAIN MODEL #####\n",
    "\n",
    "    train_losses, train_accs, val_losses, val_accs = train_tf_model(\n",
    "            model,\n",
    "            session=sess,\n",
    "            num_epochs=10, \n",
    "            train_only_on_fraction=1e-1,\n",
    "            optimizer_fn=tf.train.GradientDescentOptimizer(learning_rate=1e-3),\n",
    "            report_every=1,\n",
    "            eval_every=2,\n",
    "            stop_early=False) \n",
    "\n",
    "    ##### EVALUATE MODEL ON TEST DATA #####\n",
    "\n",
    "    # Get the op which calculates model accuracy.\n",
    "    accuracy_op = model.accuracy()    # Get the symbolic accuracy operation\n",
    "    \n",
    "    # Connect the MNIST test images and labels to the model input/output\n",
    "    # placeholders, and compute the accuracy given the trained parameters.\n",
    "    accuracy = accuracy_op.eval(feed_dict = {model.x: mnist.test.images, \n",
    "                                             model.y: mnist.test.labels})\n",
    "    \n",
    "    print \"Accuracy on test set:\", accuracy"
   ]
  },
  {
   "cell_type": "markdown",
   "metadata": {
    "colab_type": "text",
    "id": "kCJs9hNt9LFV"
   },
   "source": [
    "Instead of just training and checking that the loss goes down, it is usually a good idea to try to **overfit a small subset of your training data**. We will do this below by training a 1 hidden layer network on a subset of the MNIST training data, by setting the `train_only_on_fraction` training hyperparameter to 0.05 (i.e. 5%). We turn off early stopping for this. The following diagram illustrates the difference between under-fitting and over-fitting. Note that the diagram is idealised and it's not always this clear in practice!\n",
    "\n",
    "![overfitting](images/over_and_under_fitting.png \"Over and Under Fitting\")\n",
    "\n",
    "**QUESTION**: Why do we turn off early-stopping?\n",
    "\n",
    "In the rest of this practical, we will explore the effects of different model hyperparameters and different training choices, so let's wrap everything together to emphasize these different choices, and then train a simple model for a few epochs on 5% of the data to verify that everything works and that we can overfit a small portion of the data."
   ]
  },
  {
   "cell_type": "code",
   "execution_count": 20,
   "metadata": {
    "colab": {
     "autoexec": {
      "startup": false,
      "wait_interval": 0
     },
     "height": 3109,
     "output_extras": [
      {
       "item_id": 14
      },
      {
       "item_id": 25
      },
      {
       "item_id": 26
      },
      {
       "item_id": 27
      }
     ]
    },
    "colab_type": "code",
    "executionInfo": {
     "elapsed": 6426,
     "status": "ok",
     "timestamp": 1503068187309,
     "user": {
      "displayName": "Stephan Gouws",
      "photoUrl": "//lh4.googleusercontent.com/-6znVyM1oxdg/AAAAAAAAAAI/AAAAAAAAABI/vEPo2Ce7Rpc/s50-c-k-no/photo.jpg",
      "userId": "102606466886131565871"
     },
     "user_tz": -60
    },
    "id": "SvA0W9wTuFbD",
    "outputId": "c03d1f7d-550a-48d1-d94a-e337b03e902f"
   },
   "outputs": [
    {
     "name": "stdout",
     "output_type": "stream",
     "text": [
      "Epoch: 0001 Training cost= 86.671144555\n",
      "Epoch: 0001 Validation acc= 0.470400006\n",
      "Epoch: 0002 Training cost= 32.378755257\n",
      "Epoch: 0003 Training cost= 19.619923999\n",
      "Epoch: 0003 Validation acc= 0.705600023\n",
      "Epoch: 0004 Training cost= 14.065403336\n",
      "Epoch: 0005 Training cost= 10.729673871\n",
      "Epoch: 0005 Validation acc= 0.766799986\n",
      "Epoch: 0006 Training cost= 8.362369494\n",
      "Epoch: 0007 Training cost= 6.607117094\n",
      "Epoch: 0007 Validation acc= 0.790600002\n",
      "Epoch: 0008 Training cost= 5.190952872\n",
      "Epoch: 0009 Training cost= 4.023866670\n",
      "Epoch: 0009 Validation acc= 0.798600018\n",
      "Epoch: 0010 Training cost= 3.152098826\n",
      "Epoch: 0011 Training cost= 2.488907944\n",
      "Epoch: 0011 Validation acc= 0.804199994\n",
      "Epoch: 0012 Training cost= 1.918182273\n",
      "Epoch: 0013 Training cost= 1.529727884\n",
      "Epoch: 0013 Validation acc= 0.807200015\n",
      "Epoch: 0014 Training cost= 1.141758306\n",
      "Epoch: 0015 Training cost= 0.821120327\n",
      "Epoch: 0015 Validation acc= 0.809800029\n",
      "Epoch: 0016 Training cost= 0.596917208\n",
      "Epoch: 0017 Training cost= 0.448648420\n",
      "Epoch: 0017 Validation acc= 0.811800003\n",
      "Epoch: 0018 Training cost= 0.362648918\n",
      "Epoch: 0019 Training cost= 0.294025914\n",
      "Epoch: 0019 Validation acc= 0.815400004\n",
      "Epoch: 0020 Training cost= 0.211786659\n",
      "Epoch: 0021 Training cost= 0.199456693\n",
      "Epoch: 0021 Validation acc= 0.816600025\n",
      "Epoch: 0022 Training cost= 0.134907617\n",
      "Epoch: 0023 Training cost= 0.100976078\n",
      "Epoch: 0023 Validation acc= 0.816200018\n",
      "Epoch: 0024 Training cost= 0.082484495\n",
      "Epoch: 0025 Training cost= 0.110259895\n",
      "Epoch: 0025 Validation acc= 0.819199979\n",
      "Epoch: 0026 Training cost= 0.031071639\n",
      "Epoch: 0027 Training cost= 0.038540008\n",
      "Epoch: 0027 Validation acc= 0.820999980\n",
      "Epoch: 0028 Training cost= 0.009517248\n",
      "Epoch: 0029 Training cost= 0.010902141\n",
      "Epoch: 0029 Validation acc= 0.826399982\n",
      "Epoch: 0030 Training cost= 0.015957228\n",
      "Epoch: 0031 Training cost= 0.012406773\n",
      "Epoch: 0031 Validation acc= 0.827199996\n",
      "Epoch: 0032 Training cost= 0.002218569\n",
      "Epoch: 0033 Training cost= 0.001438031\n",
      "Epoch: 0033 Validation acc= 0.824999988\n",
      "Epoch: 0034 Training cost= 0.000026247\n",
      "Epoch: 0035 Training cost= 0.000015770\n",
      "Epoch: 0035 Validation acc= 0.824999988\n",
      "Epoch: 0036 Training cost= 0.000013471\n",
      "Epoch: 0037 Training cost= 0.000012097\n",
      "Epoch: 0037 Validation acc= 0.824800014\n",
      "Epoch: 0038 Training cost= 0.000011124\n",
      "Epoch: 0039 Training cost= 0.000010370\n",
      "Epoch: 0039 Validation acc= 0.824800014\n",
      "Epoch: 0040 Training cost= 0.000009756\n",
      "Epoch: 0041 Training cost= 0.000009236\n",
      "Epoch: 0041 Validation acc= 0.824999988\n",
      "Epoch: 0042 Training cost= 0.000008785\n",
      "Epoch: 0043 Training cost= 0.000008387\n",
      "Epoch: 0043 Validation acc= 0.824999988\n",
      "Epoch: 0044 Training cost= 0.000008030\n",
      "Epoch: 0045 Training cost= 0.000007706\n",
      "Epoch: 0045 Validation acc= 0.824999988\n",
      "Epoch: 0046 Training cost= 0.000007411\n",
      "Epoch: 0047 Training cost= 0.000007139\n",
      "Epoch: 0047 Validation acc= 0.824999988\n",
      "Epoch: 0048 Training cost= 0.000006887\n",
      "Epoch: 0049 Training cost= 0.000006652\n",
      "Epoch: 0049 Validation acc= 0.824999988\n",
      "Epoch: 0050 Training cost= 0.000006433\n",
      "Epoch: 0051 Training cost= 0.000006227\n",
      "Epoch: 0051 Validation acc= 0.824999988\n",
      "Epoch: 0052 Training cost= 0.000006033\n",
      "Epoch: 0053 Training cost= 0.000005850\n",
      "Epoch: 0053 Validation acc= 0.825200021\n",
      "Epoch: 0054 Training cost= 0.000005677\n",
      "Epoch: 0055 Training cost= 0.000005513\n",
      "Epoch: 0055 Validation acc= 0.825200021\n",
      "Epoch: 0056 Training cost= 0.000005356\n",
      "Epoch: 0057 Training cost= 0.000005207\n",
      "Epoch: 0057 Validation acc= 0.825200021\n",
      "Epoch: 0058 Training cost= 0.000005065\n",
      "Epoch: 0059 Training cost= 0.000004929\n",
      "Epoch: 0059 Validation acc= 0.825200021\n",
      "Epoch: 0060 Training cost= 0.000004799\n",
      "Epoch: 0061 Training cost= 0.000004675\n",
      "Epoch: 0061 Validation acc= 0.825200021\n",
      "Epoch: 0062 Training cost= 0.000004555\n",
      "Epoch: 0063 Training cost= 0.000004440\n",
      "Epoch: 0063 Validation acc= 0.825200021\n",
      "Epoch: 0064 Training cost= 0.000004330\n",
      "Epoch: 0065 Training cost= 0.000004224\n",
      "Epoch: 0065 Validation acc= 0.825200021\n",
      "Epoch: 0066 Training cost= 0.000004122\n",
      "Epoch: 0067 Training cost= 0.000004023\n",
      "Epoch: 0067 Validation acc= 0.825200021\n",
      "Epoch: 0068 Training cost= 0.000003928\n",
      "Epoch: 0069 Training cost= 0.000003836\n",
      "Epoch: 0069 Validation acc= 0.824999988\n",
      "Epoch: 0070 Training cost= 0.000003748\n",
      "Epoch: 0071 Training cost= 0.000003662\n",
      "Epoch: 0071 Validation acc= 0.824999988\n",
      "Epoch: 0072 Training cost= 0.000003579\n",
      "Epoch: 0073 Training cost= 0.000003499\n",
      "Epoch: 0073 Validation acc= 0.824999988\n",
      "Epoch: 0074 Training cost= 0.000003421\n",
      "Epoch: 0075 Training cost= 0.000003345\n",
      "Epoch: 0075 Validation acc= 0.825200021\n",
      "Epoch: 0076 Training cost= 0.000003272\n",
      "Epoch: 0077 Training cost= 0.000003202\n",
      "Epoch: 0077 Validation acc= 0.825200021\n",
      "Epoch: 0078 Training cost= 0.000003133\n",
      "Epoch: 0079 Training cost= 0.000003066\n",
      "Epoch: 0079 Validation acc= 0.825200021\n",
      "Epoch: 0080 Training cost= 0.000003001\n",
      "Epoch: 0081 Training cost= 0.000002938\n",
      "Epoch: 0081 Validation acc= 0.825399995\n",
      "Epoch: 0082 Training cost= 0.000002877\n",
      "Epoch: 0083 Training cost= 0.000002817\n",
      "Epoch: 0083 Validation acc= 0.825399995\n",
      "Epoch: 0084 Training cost= 0.000002759\n",
      "Epoch: 0085 Training cost= 0.000002702\n",
      "Epoch: 0085 Validation acc= 0.825399995\n",
      "Epoch: 0086 Training cost= 0.000002648\n",
      "Epoch: 0087 Training cost= 0.000002594\n",
      "Epoch: 0087 Validation acc= 0.824999988\n",
      "Epoch: 0088 Training cost= 0.000002542\n",
      "Epoch: 0089 Training cost= 0.000002491\n",
      "Epoch: 0089 Validation acc= 0.824999988\n",
      "Epoch: 0090 Training cost= 0.000002442\n",
      "Epoch: 0091 Training cost= 0.000002393\n",
      "Epoch: 0091 Validation acc= 0.824999988\n",
      "Epoch: 0092 Training cost= 0.000002346\n",
      "Epoch: 0093 Training cost= 0.000002299\n",
      "Epoch: 0093 Validation acc= 0.824800014\n",
      "Epoch: 0094 Training cost= 0.000002255\n",
      "Epoch: 0095 Training cost= 0.000002211\n",
      "Epoch: 0095 Validation acc= 0.824800014\n",
      "Epoch: 0096 Training cost= 0.000002168\n",
      "Epoch: 0097 Training cost= 0.000002126\n",
      "Epoch: 0097 Validation acc= 0.824800014\n",
      "Epoch: 0098 Training cost= 0.000002085\n",
      "Epoch: 0099 Training cost= 0.000002045\n",
      "Epoch: 0099 Validation acc= 0.824800014\n",
      "Epoch: 0100 Training cost= 0.000002006\n",
      "Optimization Finished!\n",
      "Accuracy on test set: 0.8289\n"
     ]
    },
    {
     "data": {
      "image/png": "[encoded data removed]",
      "text/plain": [
       "<matplotlib.figure.Figure at 0x7f16873f4810>"
      ]
     },
     "metadata": {},
     "output_type": "display_data"
    },
    {
     "data": {
      "image/png": "[encoded data removed]",
      "text/plain": [
       "<matplotlib.figure.Figure at 0x7f1687387a50>"
      ]
     },
     "metadata": {},
     "output_type": "display_data"
    }
   ],
   "source": [
    "# NOTE THE CODE TEMPLATE BELOW WRAPS ALL OF THE ABOVE CODE, AND EXPOSES ONLY THE \n",
    "# DIFFERENT HYPERPARAMETER CHOICES. MAKE SURE YOU UNDERSTAND EXACTLY HOW\n",
    "# THE ABOVE CODE WORKS FIRST. TO SAVE SOME SPACE, WE WILL COPY AND MODIFY THE \n",
    "# CODE BELOW TO BUILD AND TRAIN DIFFERENT MODELS IN THE REST OF THIS PRACTICAL. \n",
    "# YOU CAN USE WHICHEVER VERSION YOU PREFER FOR YOUR OWN EXPERIMENTS.\n",
    "\n",
    "# Helper to wrap building, training, evaluating and plotting model accuracy.\n",
    "\n",
    "def build_train_eval_and_plot(build_params, train_params, verbose=True):\n",
    "    tf.reset_default_graph()\n",
    "    m = DNNClassifier(**build_params)\n",
    "\n",
    "    with tf.Session() as sess:\n",
    "        # Train model on the MNIST dataset.\n",
    "     \n",
    "        train_losses, train_accs, val_losses, val_accs = train_tf_model(\n",
    "                m, \n",
    "                sess,\n",
    "                verbose=verbose,\n",
    "                **train_params) \n",
    "        \n",
    "        # Now evaluate it on the test set:\n",
    "    \n",
    "        accuracy_op = m.accuracy()    # Get the symbolic accuracy operation\n",
    "        # Calculate the accuracy using the test images and labels.\n",
    "        accuracy = accuracy_op.eval({m.x: mnist.test.images, \n",
    "                                                                 m.y: mnist.test.labels})    \n",
    "        \n",
    "        if verbose: \n",
    "            print \"Accuracy on test set:\", accuracy\n",
    "            # Plot losses and accuracies.\n",
    "            plot_multi([train_losses, val_losses], ['train', 'val'], 'loss', 'epoch')\n",
    "            plot_multi([train_accs, val_accs], ['train', 'val'], 'accuracy', 'epoch')\n",
    "            \n",
    "        \n",
    "        ret = {'train_losses': train_losses, 'train_accs' : train_accs,\n",
    "                     'val_losses' : val_losses, 'val_accs' : val_accs,\n",
    "                     'test_acc' : accuracy}\n",
    "        \n",
    "        return m, ret\n",
    "\n",
    "#################################CODE TEMPLATE##################################\n",
    "# Specify the model hyperparameters (NOTE: All the defaults can be omitted):\n",
    "model_params = {\n",
    "        #'input_size' : 784,    # There are 28x28 = 784 pixels in MNIST images\n",
    "        'hidden_sizes' : [512], # List of hidden layer dimensions, empty for linear model.\n",
    "        #'output_size' : 10,    # There are 10 possible digit classes\n",
    "        #'act_fn' : tf.nn.relu,    # The activation function to use in the hidden layers\n",
    "        'l2_lambda' : 0.            # Strength of L2 regularization.\n",
    "}\n",
    "\n",
    "# Specify the training hyperparameters:\n",
    "training_params = {'num_epochs' : 100,     # Max epochs/iterations to train for.\n",
    "                        #'batch_size' : 100,    # Number of examples per batch, 100 default.\n",
    "                        #'keep_prob' : 1.0,    # (1. - dropout) probability, none by default.\n",
    "                        'train_only_on_fraction' : 5e-2,    # Fraction of training data to use, 1. for everything.\n",
    "                        'optimizer_fn' : None,    # Optimizer, None for Adam.\n",
    "                        'report_every' : 1, # Report training results every nr of epochs.\n",
    "                        'eval_every' : 2,     # Evaluate on validation data every nr of epochs.\n",
    "                        'stop_early' : False,    # Use early stopping or not.\n",
    "}\n",
    "\n",
    "# Build, train, evaluate and plot the results!\n",
    "trained_model, training_results = build_train_eval_and_plot(\n",
    "        model_params, \n",
    "        training_params, \n",
    "        verbose=True    # Modify as desired.\n",
    ")\n",
    "\n",
    "###############################END CODE TEMPLATE################################"
   ]
  },
  {
   "cell_type": "markdown",
   "metadata": {
    "colab_type": "text",
    "id": "J-YKo75RW1iO"
   },
   "source": [
    "Above we plot the training loss vs the validation loss and the training accuracy vs the validation accuracy on only 5% (`train_only_on_fraction=5e-3`) of the training data (so that it doesn't take too long, and also so that our model can overfit easier). We see that the loss is coming down and the accuracies are going up, as expected! By training on a small subset of the training data, we established that \n",
    "\n",
    "* the data that the model is being trained on is hopefully not corrupt (this can happen during preprocessing, loading, etc), \n",
    "* our loss and gradients are likely correct, \n",
    "* our optimizer seems to do the right thing, \n",
    "* and generally, that our code probably works! \n",
    "\n",
    "**NOTE**: Notice the point where training loss/accuracy continues to improve, but validation accuracy starts to plateau? That is the point where the model starts to **overfit** the training data.\n"
   ]
  },
  {
   "cell_type": "markdown",
   "metadata": {
    "colab_type": "text",
    "id": "32oVqFziKYcv"
   },
   "source": [
    "# Architectural Choices (15min)\n",
    "\n",
    "## Depth\n",
    "\n",
    "### A Linear 784-10 Model\n",
    "\n",
    "Let's evaluate the simple linear model trained on the full dataset and then add layers to see what effect this will have on the accuracy.\n",
    "\n",
    "**NOTE**: If you're unsure what the \"784-10\" notation means, scroll up and re-read the section on \"Building a Feed-forward Neural Network\" where we explain that."
   ]
  },
  {
   "cell_type": "code",
   "execution_count": 21,
   "metadata": {
    "colab": {
     "autoexec": {
      "startup": false,
      "wait_interval": 0
     },
     "height": 1528,
     "output_extras": [
      {
       "item_id": 27
      },
      {
       "item_id": 28
      },
      {
       "item_id": 29
      },
      {
       "item_id": 30
      }
     ]
    },
    "colab_type": "code",
    "executionInfo": {
     "elapsed": 24080,
     "status": "ok",
     "timestamp": 1502999087933,
     "user": {
      "displayName": "Stephan Gouws",
      "photoUrl": "//lh4.googleusercontent.com/-6znVyM1oxdg/AAAAAAAAAAI/AAAAAAAAABI/vEPo2Ce7Rpc/s50-c-k-no/photo.jpg",
      "userId": "102606466886131565871"
     },
     "user_tz": -60
    },
    "id": "mChxOFJnL_kt",
    "outputId": "ab2184b1-64b2-4166-e638-9ef35a99c663"
   },
   "outputs": [
    {
     "name": "stdout",
     "output_type": "stream",
     "text": [
      "Epoch: 0001 Training cost= 4.470642067\n",
      "Epoch: 0001 Validation acc= 0.694800019\n"
     ]
    },
    {
     "ename": "MemoryError",
     "evalue": "",
     "output_type": "error",
     "traceback": [
      "\u001b[0;31m\u001b[0m",
      "\u001b[0;31mMemoryError\u001b[0mTraceback (most recent call last)",
      "\u001b[0;32m<ipython-input-21-dddf9dc2096e>\u001b[0m in \u001b[0;36m<module>\u001b[0;34m()\u001b[0m\n\u001b[0;32m----> 1\u001b[0;31m \u001b[0mget_ipython\u001b[0m\u001b[0;34m(\u001b[0m\u001b[0;34m)\u001b[0m\u001b[0;34m.\u001b[0m\u001b[0mrun_cell_magic\u001b[0m\u001b[0;34m(\u001b[0m\u001b[0;34mu'time'\u001b[0m\u001b[0;34m,\u001b[0m \u001b[0;34mu''\u001b[0m\u001b[0;34m,\u001b[0m \u001b[0;34mu\"# Train the linear model on the full dataset.\\n\\n################################################################################\\n# Specify the model hyperparameters.\\nmodel_params = {'l2_lambda' : 0.}\\n\\n# Specify the training hyperparameters:\\ntraining_params = {'num_epochs' : 50,     # Max epochs/iterations to train for.\\n                        'optimizer_fn' : None,            # Now we're using Adam.\\n                        'report_every' : 1, # Report training results every nr of epochs.\\n                        'eval_every' : 1,     # Evaluate on validation data every nr of epochs.\\n                        'stop_early' : True    \\n}\\n\\n# Build, train, evaluate and plot the results!\\ntrained_model, training_results = build_train_eval_and_plot(\\n        model_params, \\n        training_params, \\n        verbose=True    # Modify as desired.\\n)\\n\\n################################################################################\"\u001b[0m\u001b[0;34m)\u001b[0m\u001b[0;34m\u001b[0m\u001b[0m\n\u001b[0m",
      "\u001b[0;32m/home/ubuntu/anaconda2/lib/python2.7/site-packages/IPython/core/interactiveshell.pyc\u001b[0m in \u001b[0;36mrun_cell_magic\u001b[0;34m(self, magic_name, line, cell)\u001b[0m\n\u001b[1;32m   2113\u001b[0m             \u001b[0mmagic_arg_s\u001b[0m \u001b[0;34m=\u001b[0m \u001b[0mself\u001b[0m\u001b[0;34m.\u001b[0m\u001b[0mvar_expand\u001b[0m\u001b[0;34m(\u001b[0m\u001b[0mline\u001b[0m\u001b[0;34m,\u001b[0m \u001b[0mstack_depth\u001b[0m\u001b[0;34m)\u001b[0m\u001b[0;34m\u001b[0m\u001b[0m\n\u001b[1;32m   2114\u001b[0m             \u001b[0;32mwith\u001b[0m \u001b[0mself\u001b[0m\u001b[0;34m.\u001b[0m\u001b[0mbuiltin_trap\u001b[0m\u001b[0;34m:\u001b[0m\u001b[0;34m\u001b[0m\u001b[0m\n\u001b[0;32m-> 2115\u001b[0;31m                 \u001b[0mresult\u001b[0m \u001b[0;34m=\u001b[0m \u001b[0mfn\u001b[0m\u001b[0;34m(\u001b[0m\u001b[0mmagic_arg_s\u001b[0m\u001b[0;34m,\u001b[0m \u001b[0mcell\u001b[0m\u001b[0;34m)\u001b[0m\u001b[0;34m\u001b[0m\u001b[0m\n\u001b[0m\u001b[1;32m   2116\u001b[0m             \u001b[0;32mreturn\u001b[0m \u001b[0mresult\u001b[0m\u001b[0;34m\u001b[0m\u001b[0m\n\u001b[1;32m   2117\u001b[0m \u001b[0;34m\u001b[0m\u001b[0m\n",
      "\u001b[0;32m<decorator-gen-59>\u001b[0m in \u001b[0;36mtime\u001b[0;34m(self, line, cell, local_ns)\u001b[0m\n",
      "\u001b[0;32m/home/ubuntu/anaconda2/lib/python2.7/site-packages/IPython/core/magic.pyc\u001b[0m in \u001b[0;36m<lambda>\u001b[0;34m(f, *a, **k)\u001b[0m\n\u001b[1;32m    186\u001b[0m     \u001b[0;31m# but it's overkill for just that one bit of state.\u001b[0m\u001b[0;34m\u001b[0m\u001b[0;34m\u001b[0m\u001b[0m\n\u001b[1;32m    187\u001b[0m     \u001b[0;32mdef\u001b[0m \u001b[0mmagic_deco\u001b[0m\u001b[0;34m(\u001b[0m\u001b[0marg\u001b[0m\u001b[0;34m)\u001b[0m\u001b[0;34m:\u001b[0m\u001b[0;34m\u001b[0m\u001b[0m\n\u001b[0;32m--> 188\u001b[0;31m         \u001b[0mcall\u001b[0m \u001b[0;34m=\u001b[0m \u001b[0;32mlambda\u001b[0m \u001b[0mf\u001b[0m\u001b[0;34m,\u001b[0m \u001b[0;34m*\u001b[0m\u001b[0ma\u001b[0m\u001b[0;34m,\u001b[0m \u001b[0;34m**\u001b[0m\u001b[0mk\u001b[0m\u001b[0;34m:\u001b[0m \u001b[0mf\u001b[0m\u001b[0;34m(\u001b[0m\u001b[0;34m*\u001b[0m\u001b[0ma\u001b[0m\u001b[0;34m,\u001b[0m \u001b[0;34m**\u001b[0m\u001b[0mk\u001b[0m\u001b[0;34m)\u001b[0m\u001b[0;34m\u001b[0m\u001b[0m\n\u001b[0m\u001b[1;32m    189\u001b[0m \u001b[0;34m\u001b[0m\u001b[0m\n\u001b[1;32m    190\u001b[0m         \u001b[0;32mif\u001b[0m \u001b[0mcallable\u001b[0m\u001b[0;34m(\u001b[0m\u001b[0marg\u001b[0m\u001b[0;34m)\u001b[0m\u001b[0;34m:\u001b[0m\u001b[0;34m\u001b[0m\u001b[0m\n",
      "\u001b[0;32m/home/ubuntu/anaconda2/lib/python2.7/site-packages/IPython/core/magics/execution.pyc\u001b[0m in \u001b[0;36mtime\u001b[0;34m(self, line, cell, local_ns)\u001b[0m\n\u001b[1;32m   1183\u001b[0m         \u001b[0;32melse\u001b[0m\u001b[0;34m:\u001b[0m\u001b[0;34m\u001b[0m\u001b[0m\n\u001b[1;32m   1184\u001b[0m             \u001b[0mst\u001b[0m \u001b[0;34m=\u001b[0m \u001b[0mclock2\u001b[0m\u001b[0;34m(\u001b[0m\u001b[0;34m)\u001b[0m\u001b[0;34m\u001b[0m\u001b[0m\n\u001b[0;32m-> 1185\u001b[0;31m             \u001b[0;32mexec\u001b[0m\u001b[0;34m(\u001b[0m\u001b[0mcode\u001b[0m\u001b[0;34m,\u001b[0m \u001b[0mglob\u001b[0m\u001b[0;34m,\u001b[0m \u001b[0mlocal_ns\u001b[0m\u001b[0;34m)\u001b[0m\u001b[0;34m\u001b[0m\u001b[0m\n\u001b[0m\u001b[1;32m   1186\u001b[0m             \u001b[0mend\u001b[0m \u001b[0;34m=\u001b[0m \u001b[0mclock2\u001b[0m\u001b[0;34m(\u001b[0m\u001b[0;34m)\u001b[0m\u001b[0;34m\u001b[0m\u001b[0m\n\u001b[1;32m   1187\u001b[0m             \u001b[0mout\u001b[0m \u001b[0;34m=\u001b[0m \u001b[0mNone\u001b[0m\u001b[0;34m\u001b[0m\u001b[0m\n",
      "\u001b[0;32m<timed exec>\u001b[0m in \u001b[0;36m<module>\u001b[0;34m()\u001b[0m\n",
      "\u001b[0;32m<ipython-input-20-50784ea96410>\u001b[0m in \u001b[0;36mbuild_train_eval_and_plot\u001b[0;34m(build_params, train_params, verbose)\u001b[0m\n\u001b[1;32m     18\u001b[0m                 \u001b[0msess\u001b[0m\u001b[0;34m,\u001b[0m\u001b[0;34m\u001b[0m\u001b[0m\n\u001b[1;32m     19\u001b[0m                 \u001b[0mverbose\u001b[0m\u001b[0;34m=\u001b[0m\u001b[0mverbose\u001b[0m\u001b[0;34m,\u001b[0m\u001b[0;34m\u001b[0m\u001b[0m\n\u001b[0;32m---> 20\u001b[0;31m                 **train_params) \n\u001b[0m\u001b[1;32m     21\u001b[0m \u001b[0;34m\u001b[0m\u001b[0m\n\u001b[1;32m     22\u001b[0m         \u001b[0;31m# Now evaluate it on the test set:\u001b[0m\u001b[0;34m\u001b[0m\u001b[0;34m\u001b[0m\u001b[0m\n",
      "\u001b[0;32m<ipython-input-18-5761bb70492a>\u001b[0m in \u001b[0;36mtrain_tf_model\u001b[0;34m(tf_model, session, num_epochs, batch_size, keep_prob, train_only_on_fraction, optimizer_fn, report_every, eval_every, stop_early, verbose)\u001b[0m\n\u001b[1;32m     50\u001b[0m         \u001b[0;31m# Loop over all batches.\u001b[0m\u001b[0;34m\u001b[0m\u001b[0;34m\u001b[0m\u001b[0m\n\u001b[1;32m     51\u001b[0m         \u001b[0;32mfor\u001b[0m \u001b[0mi\u001b[0m \u001b[0;32min\u001b[0m \u001b[0mrange\u001b[0m\u001b[0;34m(\u001b[0m\u001b[0mtotal_batch\u001b[0m\u001b[0;34m)\u001b[0m\u001b[0;34m:\u001b[0m\u001b[0;34m\u001b[0m\u001b[0m\n\u001b[0;32m---> 52\u001b[0;31m             \u001b[0mbatch_x\u001b[0m\u001b[0;34m,\u001b[0m \u001b[0mbatch_y\u001b[0m \u001b[0;34m=\u001b[0m \u001b[0mmnist_train_data\u001b[0m\u001b[0;34m.\u001b[0m\u001b[0mnext_batch\u001b[0m\u001b[0;34m(\u001b[0m\u001b[0mbatch_size\u001b[0m\u001b[0;34m)\u001b[0m\u001b[0;34m\u001b[0m\u001b[0m\n\u001b[0m\u001b[1;32m     53\u001b[0m \u001b[0;34m\u001b[0m\u001b[0m\n\u001b[1;32m     54\u001b[0m             \u001b[0;31m# Run optimization op (backprop) and cost op (to get loss value),\u001b[0m\u001b[0;34m\u001b[0m\u001b[0;34m\u001b[0m\u001b[0m\n",
      "\u001b[0;32m/home/ubuntu/anaconda2/lib/python2.7/site-packages/tensorflow/contrib/learn/python/learn/datasets/mnist.pyc\u001b[0m in \u001b[0;36mnext_batch\u001b[0;34m(self, batch_size, fake_data, shuffle)\u001b[0m\n\u001b[1;32m    194\u001b[0m         \u001b[0mperm\u001b[0m \u001b[0;34m=\u001b[0m \u001b[0mnumpy\u001b[0m\u001b[0;34m.\u001b[0m\u001b[0marange\u001b[0m\u001b[0;34m(\u001b[0m\u001b[0mself\u001b[0m\u001b[0;34m.\u001b[0m\u001b[0m_num_examples\u001b[0m\u001b[0;34m)\u001b[0m\u001b[0;34m\u001b[0m\u001b[0m\n\u001b[1;32m    195\u001b[0m         \u001b[0mnumpy\u001b[0m\u001b[0;34m.\u001b[0m\u001b[0mrandom\u001b[0m\u001b[0;34m.\u001b[0m\u001b[0mshuffle\u001b[0m\u001b[0;34m(\u001b[0m\u001b[0mperm\u001b[0m\u001b[0;34m)\u001b[0m\u001b[0;34m\u001b[0m\u001b[0m\n\u001b[0;32m--> 196\u001b[0;31m         \u001b[0mself\u001b[0m\u001b[0;34m.\u001b[0m\u001b[0m_images\u001b[0m \u001b[0;34m=\u001b[0m \u001b[0mself\u001b[0m\u001b[0;34m.\u001b[0m\u001b[0mimages\u001b[0m\u001b[0;34m[\u001b[0m\u001b[0mperm\u001b[0m\u001b[0;34m]\u001b[0m\u001b[0;34m\u001b[0m\u001b[0m\n\u001b[0m\u001b[1;32m    197\u001b[0m         \u001b[0mself\u001b[0m\u001b[0;34m.\u001b[0m\u001b[0m_labels\u001b[0m \u001b[0;34m=\u001b[0m \u001b[0mself\u001b[0m\u001b[0;34m.\u001b[0m\u001b[0mlabels\u001b[0m\u001b[0;34m[\u001b[0m\u001b[0mperm\u001b[0m\u001b[0;34m]\u001b[0m\u001b[0;34m\u001b[0m\u001b[0m\n\u001b[1;32m    198\u001b[0m       \u001b[0;31m# Start next epoch\u001b[0m\u001b[0;34m\u001b[0m\u001b[0;34m\u001b[0m\u001b[0m\n",
      "\u001b[0;31mMemoryError\u001b[0m: "
     ]
    }
   ],
   "source": [
    "%%time\n",
    "# Train the linear model on the full dataset.\n",
    "\n",
    "################################################################################\n",
    "# Specify the model hyperparameters.\n",
    "model_params = {'l2_lambda' : 0.}\n",
    "\n",
    "# Specify the training hyperparameters:\n",
    "training_params = {'num_epochs' : 50,     # Max epochs/iterations to train for.\n",
    "                   'optimizer_fn' : None,            # Now we're using Adam.\n",
    "                   'report_every' : 1, # Report training results every nr of epochs.\n",
    "                   'eval_every' : 1,     # Evaluate on validation data every nr of epochs.\n",
    "                   'stop_early' : True    \n",
    "}\n",
    "\n",
    "# Build, train, evaluate and plot the results!\n",
    "trained_model, training_results = build_train_eval_and_plot(\n",
    "        model_params, \n",
    "        training_params, \n",
    "        verbose=True    # Modify as desired.\n",
    ")\n",
    "\n",
    "################################################################################"
   ]
  },
  {
   "cell_type": "markdown",
   "metadata": {
    "colab_type": "text",
    "id": "dnaNJvLpYp9F"
   },
   "source": [
    "~91% is quite a bad score on MNIST! Now let's build a deeper model, to improve on that score. \n",
    "\n",
    "### 1 hidden layer: 784-512-10 Architecture w/ L2\n",
    "\n",
    "Notice that we add a bit of L2-regularization to our model.\n",
    "\n",
    "**QUESTION**: What does that do? What is the effect of removing it? Try it!"
   ]
  },
  {
   "cell_type": "code",
   "execution_count": 220,
   "metadata": {
    "colab": {
     "autoexec": {
      "startup": false,
      "wait_interval": 0
     },
     "height": 2293,
     "output_extras": [
      {
       "item_id": 49
      },
      {
       "item_id": 50
      },
      {
       "item_id": 51
      },
      {
       "item_id": 52
      },
      {
       "item_id": 53
      }
     ]
    },
    "colab_type": "code",
    "executionInfo": {
     "elapsed": 64958,
     "status": "ok",
     "timestamp": 1503008137397,
     "user": {
      "displayName": "Stephan Gouws",
      "photoUrl": "//lh4.googleusercontent.com/-6znVyM1oxdg/AAAAAAAAAAI/AAAAAAAAABI/vEPo2Ce7Rpc/s50-c-k-no/photo.jpg",
      "userId": "102606466886131565871"
     },
     "user_tz": -60
    },
    "id": "26XgusXy8OTs",
    "outputId": "6e4c8098-3ded-40ca-9281-ebbfc7862953"
   },
   "outputs": [
    {
     "name": "stdout",
     "output_type": "stream",
     "text": [
      "Epoch: 0001 Training cost= 199.931141524\n",
      "Epoch: 0001 Validation acc= 0.870599747\n",
      "Epoch: 0002 Training cost= 141.988723103\n",
      "Epoch: 0002 Validation acc= 0.898999751\n",
      "Epoch: 0003 Training cost= 113.183370292\n",
      "Epoch: 0003 Validation acc= 0.912399769\n",
      "Epoch: 0004 Training cost= 93.298404125\n",
      "Epoch: 0004 Validation acc= 0.922599733\n",
      "Epoch: 0005 Training cost= 78.503151592\n",
      "Epoch: 0005 Validation acc= 0.921799719\n",
      "Epoch: 0006 Training cost= 66.877790590\n",
      "Epoch: 0006 Validation acc= 0.935599744\n",
      "Epoch: 0007 Training cost= 57.344941926\n",
      "Epoch: 0007 Validation acc= 0.935999691\n",
      "Epoch: 0008 Training cost= 49.325550454\n",
      "Epoch: 0008 Validation acc= 0.943399668\n",
      "Epoch: 0009 Training cost= 42.386559400\n",
      "Epoch: 0009 Validation acc= 0.940399766\n",
      "Epoch: 0010 Training cost= 36.450480402\n",
      "Epoch: 0010 Validation acc= 0.946999669\n",
      "Epoch: 0011 Training cost= 31.281487076\n",
      "Epoch: 0011 Validation acc= 0.944399714\n",
      "Epoch: 0012 Training cost= 26.775760117\n",
      "Epoch: 0012 Validation acc= 0.944599748\n",
      "Epoch: 0013 Training cost= 22.888392136\n",
      "Epoch: 0013 Validation acc= 0.950199783\n",
      "Epoch: 0014 Training cost= 19.539065340\n",
      "Epoch: 0014 Validation acc= 0.950399756\n",
      "Epoch: 0015 Training cost= 16.640647588\n",
      "Epoch: 0015 Validation acc= 0.948999763\n",
      "Epoch: 0016 Training cost= 14.154421536\n",
      "Epoch: 0016 Validation acc= 0.955999732\n",
      "Epoch: 0017 Training cost= 12.027777351\n",
      "Epoch: 0017 Validation acc= 0.957199812\n",
      "Epoch: 0018 Training cost= 10.202699273\n",
      "Epoch: 0018 Validation acc= 0.954399705\n",
      "Epoch: 0019 Training cost= 8.657644658\n",
      "Epoch: 0019 Validation acc= 0.953599632\n",
      "Epoch: 0020 Training cost= 7.334119753\n",
      "Epoch: 0020 Validation acc= 0.954599738\n",
      "Epoch: 0021 Training cost= 6.196740341\n",
      "Epoch: 0021 Validation acc= 0.961399794\n",
      "Epoch: 0022 Training cost= 5.227180183\n",
      "Epoch: 0022 Validation acc= 0.959199727\n",
      "Epoch: 0023 Training cost= 4.402065789\n",
      "Epoch: 0023 Validation acc= 0.956199765\n",
      "Epoch: 0024 Training cost= 3.707452070\n",
      "Epoch: 0024 Validation acc= 0.955999732\n",
      "Epoch: 0025 Training cost= 3.129813027\n",
      "Epoch: 0025 Validation acc= 0.964799762\n",
      "Epoch: 0026 Training cost= 2.621126144\n",
      "Epoch: 0026 Validation acc= 0.949599743\n",
      "Epoch: 0027 Training cost= 2.205886074\n",
      "Epoch: 0027 Validation acc= 0.958999693\n",
      "Epoch: 0028 Training cost= 1.853469856\n",
      "Epoch: 0028 Validation acc= 0.963399649\n",
      "Epoch: 0029 Training cost= 1.541123295\n",
      "Epoch: 0029 Validation acc= 0.964799762\n",
      "Epoch: 0030 Training cost= 1.291453608\n",
      "Epoch: 0030 Validation acc= 0.962999761\n",
      "Epoch: 0031 Training cost= 1.086839738\n",
      "Epoch: 0031 Validation acc= 0.963599741\n",
      "Epoch: 0032 Training cost= 0.914146203\n",
      "Epoch: 0032 Validation acc= 0.963399649\n",
      "Epoch: 0033 Training cost= 0.769378621\n",
      "Epoch: 0033 Validation acc= 0.965999722\n",
      "Epoch: 0034 Training cost= 0.650265682\n",
      "Epoch: 0034 Validation acc= 0.967199743\n",
      "Epoch: 0035 Training cost= 0.558896172\n",
      "Epoch: 0035 Validation acc= 0.969799757\n",
      "Epoch: 0036 Training cost= 0.482242939\n",
      "Epoch: 0036 Validation acc= 0.972199798\n",
      "Epoch: 0037 Training cost= 0.417804223\n",
      "Epoch: 0037 Validation acc= 0.966399789\n",
      "Epoch: 0038 Training cost= 0.370378067\n",
      "Epoch: 0038 Validation acc= 0.973199725\n",
      "Epoch: 0039 Training cost= 0.331554002\n",
      "Epoch: 0039 Validation acc= 0.973999739\n",
      "Epoch: 0040 Training cost= 0.299039026\n",
      "Epoch: 0040 Validation acc= 0.973399699\n",
      "Epoch: 0041 Training cost= 0.271972703\n",
      "Epoch: 0041 Validation acc= 0.975399673\n",
      "Epoch: 0042 Training cost= 0.252507508\n",
      "Epoch: 0042 Validation acc= 0.972199798\n",
      "Epoch: 0043 Training cost= 0.237628794\n",
      "Epoch: 0043 Validation acc= 0.975399673\n",
      "Epoch: 0044 Training cost= 0.222427252\n",
      "Epoch: 0044 Validation acc= 0.970399678\n",
      "Epoch: 0045 Training cost= 0.213050932\n",
      "Epoch: 0045 Validation acc= 0.973399699\n",
      "Epoch: 0046 Training cost= 0.206244858\n",
      "Epoch: 0046 Validation acc= 0.970799685\n",
      "Epoch: 0047 Training cost= 0.200895666\n",
      "Epoch: 0047 Validation acc= 0.975999713\n",
      "Epoch: 0048 Training cost= 0.193038337\n",
      "Epoch: 0048 Validation acc= 0.976599693\n",
      "Epoch: 0049 Training cost= 0.189712861\n",
      "Epoch: 0049 Validation acc= 0.973599732\n",
      "Epoch: 0050 Training cost= 0.186406397\n",
      "Epoch: 0050 Validation acc= 0.976599693\n",
      "Optimization Finished!\n",
      "Accuracy on test set: 0.977\n"
     ]
    },
    {
     "data": {
      "image/png": "[encoded data removed]",
      "text/plain": [
       "<matplotlib.figure.Figure at 0x55f690227f10>"
      ]
     },
     "metadata": {
      "tags": []
     },
     "output_type": "display_data"
    },
    {
     "data": {
      "image/png": "[encoded data removed]",
      "text/plain": [
       "<matplotlib.figure.Figure at 0x55f696ced490>"
      ]
     },
     "metadata": {
      "tags": []
     },
     "output_type": "display_data"
    },
    {
     "name": "stdout",
     "output_type": "stream",
     "text": [
      "CPU times: user 1min 27s, sys: 12.2 s, total: 1min 39s\n",
      "Wall time: 1min 4s\n"
     ]
    }
   ],
   "source": [
    "%%time\n",
    "    \n",
    "# Specify the model hyperparameters (NOTE: All the defaults can be omitted):\n",
    "model_params = {\n",
    "        'hidden_sizes' : [512],    # List of hidden layer dimensions, empty for linear model.\n",
    "        'l2_lambda' : 1e-3            # Strength of L2 regularization.\n",
    "}\n",
    "\n",
    "# Specify the training hyperparameters:\n",
    "training_params = {\n",
    "        'num_epochs' : 50,        # Max epochs/iterations to train for.\n",
    "        'report_every' : 1,     # Report training results every nr of epochs.\n",
    "        'eval_every' : 1,         # Evaluate on validation data every nr of epochs.\n",
    "        'stop_early' : True    # Use early stopping or not.\n",
    "}\n",
    "\n",
    "# Build, train, evaluate and plot the results!\n",
    "trained_model, training_results = build_train_eval_and_plot(\n",
    "        model_params, \n",
    "        training_params, \n",
    "        verbose=True    # Modify as desired.\n",
    ")"
   ]
  },
  {
   "cell_type": "markdown",
   "metadata": {
    "colab_type": "text",
    "id": "vhfzBJHw_ep6"
   },
   "source": [
    "**97.7%** is a much more decent score! The 1 hidden layer model gives a much better score than the linear model, so let's see if we can do better by adding another layer!"
   ]
  },
  {
   "cell_type": "markdown",
   "metadata": {
    "colab_type": "text",
    "id": "qJ_Ec2df8YNj"
   },
   "source": [
    "### Going deeper! A 784-512-512-10 architecture w/ L2"
   ]
  },
  {
   "cell_type": "code",
   "execution_count": 75,
   "metadata": {
    "colab": {
     "autoexec": {
      "startup": false,
      "wait_interval": 0
     },
     "height": 4044,
     "output_extras": [
      {
       "item_id": 49
      },
      {
       "item_id": 98
      },
      {
       "item_id": 100
      },
      {
       "item_id": 101
      },
      {
       "item_id": 102
      },
      {
       "item_id": 103
      }
     ]
    },
    "colab_type": "code",
    "executionInfo": {
     "elapsed": 166883,
     "status": "ok",
     "timestamp": 1502969316725,
     "user": {
      "displayName": "Stephan Gouws",
      "photoUrl": "//lh4.googleusercontent.com/-6znVyM1oxdg/AAAAAAAAAAI/AAAAAAAAABI/vEPo2Ce7Rpc/s50-c-k-no/photo.jpg",
      "userId": "102606466886131565871"
     },
     "user_tz": -60
    },
    "id": "3jALpxhzC6yc",
    "outputId": "874ec485-034b-44e5-a771-65bbd620a817"
   },
   "outputs": [
    {
     "name": "stdout",
     "output_type": "stream",
     "text": [
      "Epoch: 0001 Training cost= 576.249123591\n",
      "Epoch: 0001 Validation acc= 0.901599765\n",
      "Epoch: 0002 Training cost= 356.557729048\n",
      "Epoch: 0002 Validation acc= 0.921399713\n",
      "Epoch: 0003 Training cost= 317.592652199\n",
      "Epoch: 0003 Validation acc= 0.931799769\n",
      "Epoch: 0004 Training cost= 293.989943626\n",
      "Epoch: 0004 Validation acc= 0.937399745\n",
      "Epoch: 0005 Training cost= 276.594365179\n",
      "Epoch: 0005 Validation acc= 0.944599748\n",
      "Epoch: 0006 Training cost= 263.482251143\n",
      "Epoch: 0006 Validation acc= 0.946799755\n",
      "Epoch: 0007 Training cost= 251.240891252\n",
      "Epoch: 0007 Validation acc= 0.945599735\n",
      "Epoch: 0008 Training cost= 241.220871305\n",
      "Epoch: 0008 Validation acc= 0.949199736\n",
      "Epoch: 0009 Training cost= 231.527150657\n",
      "Epoch: 0009 Validation acc= 0.950399697\n",
      "Epoch: 0010 Training cost= 222.198544922\n",
      "Epoch: 0010 Validation acc= 0.953399718\n",
      "Epoch: 0011 Training cost= 213.551616044\n",
      "Epoch: 0011 Validation acc= 0.955799699\n",
      "Epoch: 0012 Training cost= 204.914471547\n",
      "Epoch: 0012 Validation acc= 0.957999706\n",
      "Epoch: 0013 Training cost= 196.558960072\n",
      "Epoch: 0013 Validation acc= 0.954799712\n",
      "Epoch: 0014 Training cost= 188.747769498\n",
      "Epoch: 0014 Validation acc= 0.959999740\n",
      "Epoch: 0015 Training cost= 180.734522983\n",
      "Epoch: 0015 Validation acc= 0.958799720\n",
      "Epoch: 0016 Training cost= 173.227038269\n",
      "Epoch: 0016 Validation acc= 0.963799715\n",
      "Epoch: 0017 Training cost= 166.165209351\n",
      "Epoch: 0017 Validation acc= 0.958999813\n",
      "Epoch: 0018 Training cost= 158.934809099\n",
      "Epoch: 0018 Validation acc= 0.962199748\n",
      "Epoch: 0019 Training cost= 152.528965426\n",
      "Epoch: 0019 Validation acc= 0.963199794\n",
      "Epoch: 0020 Training cost= 146.041184803\n",
      "Epoch: 0020 Validation acc= 0.960999727\n",
      "Epoch: 0021 Training cost= 139.855197560\n",
      "Epoch: 0021 Validation acc= 0.964799702\n",
      "Epoch: 0022 Training cost= 133.776780784\n",
      "Epoch: 0022 Validation acc= 0.967599690\n",
      "Epoch: 0023 Training cost= 128.551627003\n",
      "Epoch: 0023 Validation acc= 0.966199756\n",
      "Epoch: 0024 Training cost= 122.610672066\n",
      "Epoch: 0024 Validation acc= 0.968599677\n",
      "Epoch: 0025 Training cost= 117.313750860\n",
      "Epoch: 0025 Validation acc= 0.967199683\n",
      "Epoch: 0026 Training cost= 112.409426963\n",
      "Epoch: 0026 Validation acc= 0.966599703\n",
      "Epoch: 0027 Training cost= 107.463527194\n",
      "Epoch: 0027 Validation acc= 0.965999722\n",
      "Epoch: 0028 Training cost= 102.690966672\n",
      "Epoch: 0028 Validation acc= 0.966199636\n",
      "Epoch: 0029 Training cost= 97.922743253\n",
      "Epoch: 0029 Validation acc= 0.970599711\n",
      "Epoch: 0030 Training cost= 93.660167001\n",
      "Epoch: 0030 Validation acc= 0.968199790\n",
      "Epoch: 0031 Training cost= 89.266302893\n",
      "Epoch: 0031 Validation acc= 0.966199696\n",
      "Epoch: 0032 Training cost= 85.337237507\n",
      "Epoch: 0032 Validation acc= 0.972999752\n",
      "Epoch: 0033 Training cost= 81.284292270\n",
      "Epoch: 0033 Validation acc= 0.969199717\n",
      "Epoch: 0034 Training cost= 77.531017983\n",
      "Epoch: 0034 Validation acc= 0.966799676\n",
      "Epoch: 0035 Training cost= 73.750824987\n",
      "Epoch: 0035 Validation acc= 0.962999761\n",
      "Epoch: 0036 Training cost= 70.103137623\n",
      "Epoch: 0036 Validation acc= 0.969999731\n",
      "Epoch: 0037 Training cost= 66.711315141\n",
      "Epoch: 0037 Validation acc= 0.971399724\n",
      "Epoch: 0038 Training cost= 63.361611460\n",
      "Epoch: 0038 Validation acc= 0.968599737\n",
      "Epoch: 0039 Training cost= 60.011656321\n",
      "Epoch: 0039 Validation acc= 0.970199764\n",
      "Epoch: 0040 Training cost= 57.025321149\n",
      "Epoch: 0040 Validation acc= 0.969599724\n",
      "Epoch: 0041 Training cost= 53.959342832\n",
      "Epoch: 0041 Validation acc= 0.970399678\n",
      "Epoch: 0042 Training cost= 51.148343631\n",
      "Epoch: 0042 Validation acc= 0.970399737\n",
      "Epoch: 0043 Training cost= 48.408878347\n",
      "Epoch: 0043 Validation acc= 0.969199717\n",
      "Epoch: 0044 Training cost= 45.793727729\n",
      "Epoch: 0044 Validation acc= 0.969799697\n",
      "Epoch: 0045 Training cost= 43.255685619\n",
      "Epoch: 0045 Validation acc= 0.969599724\n",
      "Epoch: 0046 Training cost= 40.852977191\n",
      "Epoch: 0046 Validation acc= 0.971399784\n",
      "Epoch: 0047 Training cost= 38.543384718\n",
      "Epoch: 0047 Validation acc= 0.967999697\n",
      "Epoch: 0048 Training cost= 36.367765503\n",
      "Epoch: 0048 Validation acc= 0.972199738\n",
      "Epoch: 0049 Training cost= 34.265690106\n",
      "Epoch: 0049 Validation acc= 0.971599758\n",
      "Epoch: 0050 Training cost= 32.170752844\n",
      "Epoch: 0050 Validation acc= 0.966999650\n",
      "Epoch: 0051 Training cost= 30.278565372\n",
      "Epoch: 0051 Validation acc= 0.966999769\n",
      "Epoch: 0052 Training cost= 28.405725545\n",
      "Epoch: 0052 Validation acc= 0.969399750\n",
      "Epoch: 0053 Training cost= 26.525246187\n",
      "Epoch: 0053 Validation acc= 0.967999816\n",
      "Epoch: 0054 Training cost= 24.837529481\n",
      "Epoch: 0054 Validation acc= 0.970999718\n",
      "Epoch: 0055 Training cost= 23.152070309\n",
      "Epoch: 0055 Validation acc= 0.964599729\n",
      "Epoch: 0056 Training cost= 21.591280441\n",
      "Epoch: 0056 Validation acc= 0.971399724\n",
      "Epoch: 0057 Training cost= 20.122739747\n",
      "Epoch: 0057 Validation acc= 0.968599677\n",
      "Epoch: 0058 Training cost= 18.699150758\n",
      "Epoch: 0058 Validation acc= 0.969799638\n",
      "Epoch: 0059 Training cost= 17.338278760\n",
      "Epoch: 0059 Validation acc= 0.971799731\n",
      "Epoch: 0060 Training cost= 16.024516387\n",
      "Epoch: 0060 Validation acc= 0.962999761\n",
      "Epoch: 0061 Training cost= 14.899629550\n",
      "Epoch: 0061 Validation acc= 0.975199699\n",
      "Epoch: 0062 Training cost= 13.723355025\n",
      "Epoch: 0062 Validation acc= 0.968799710\n",
      "Epoch: 0063 Training cost= 12.608933298\n",
      "Epoch: 0063 Validation acc= 0.968399704\n",
      "Epoch: 0064 Training cost= 11.589327968\n",
      "Epoch: 0064 Validation acc= 0.967199743\n",
      "Epoch: 0065 Training cost= 10.676569299\n",
      "Epoch: 0065 Validation acc= 0.968399644\n",
      "Epoch: 0066 Training cost= 9.733573787\n",
      "Epoch: 0066 Validation acc= 0.969999731\n",
      "Epoch: 0067 Training cost= 8.906992539\n",
      "Epoch: 0067 Validation acc= 0.965599716\n",
      "Epoch: 0068 Training cost= 8.061578745\n",
      "Epoch: 0068 Validation acc= 0.970599711\n",
      "Epoch: 0069 Training cost= 7.316279169\n",
      "Epoch: 0069 Validation acc= 0.969999611\n",
      "Epoch: 0070 Training cost= 6.604641718\n",
      "Epoch: 0070 Validation acc= 0.970599711\n",
      "Epoch: 0071 Training cost= 5.932473201\n",
      "Epoch: 0071 Validation acc= 0.967399716\n",
      "Epoch: 0072 Training cost= 5.323358593\n",
      "Epoch: 0072 Validation acc= 0.968999684\n",
      "Epoch: 0073 Training cost= 4.746478335\n",
      "Epoch: 0073 Validation acc= 0.970599771\n",
      "Epoch: 0074 Training cost= 4.206226299\n",
      "Epoch: 0074 Validation acc= 0.967599809\n",
      "Epoch: 0075 Training cost= 3.727632008\n",
      "Epoch: 0075 Validation acc= 0.972599745\n",
      "Epoch: 0076 Training cost= 3.261459116\n",
      "Epoch: 0076 Validation acc= 0.969599724\n",
      "Epoch: 0077 Training cost= 2.828105771\n",
      "Epoch: 0077 Validation acc= 0.972399712\n",
      "Epoch: 0078 Training cost= 2.451501520\n",
      "Epoch: 0078 Validation acc= 0.966999710\n",
      "Epoch: 0079 Training cost= 2.098190145\n",
      "Epoch: 0079 Validation acc= 0.966599762\n",
      "Epoch: 0080 Training cost= 1.771351617\n",
      "Epoch: 0080 Validation acc= 0.970199704\n",
      "Epoch: 0081 Training cost= 1.476746987\n",
      "Epoch: 0081 Validation acc= 0.968999743\n",
      "Epoch: 0082 Training cost= 1.229572264\n",
      "Epoch: 0082 Validation acc= 0.968599737\n",
      "Epoch: 0083 Training cost= 1.003394099\n",
      "Epoch: 0083 Validation acc= 0.969799757\n",
      "Epoch: 0084 Training cost= 0.814870764\n",
      "Epoch: 0084 Validation acc= 0.972399652\n",
      "Epoch: 0085 Training cost= 0.665674133\n",
      "Epoch: 0085 Validation acc= 0.973599732\n",
      "Epoch: 0086 Training cost= 0.538791539\n",
      "Epoch: 0086 Validation acc= 0.975999713\n",
      "Epoch: 0087 Training cost= 0.444349860\n",
      "Epoch: 0087 Validation acc= 0.974999785\n",
      "Epoch: 0088 Training cost= 0.373609773\n",
      "Epoch: 0088 Validation acc= 0.978399694\n",
      "Epoch: 0089 Training cost= 0.316718706\n",
      "Epoch: 0089 Validation acc= 0.972999752\n",
      "Epoch: 0090 Training cost= 0.278378398\n",
      "Epoch: 0090 Validation acc= 0.978799701\n",
      "Epoch: 0091 Training cost= 0.247428952\n",
      "Epoch: 0091 Validation acc= 0.976799726\n",
      "Epoch: 0092 Training cost= 0.224561186\n",
      "Epoch: 0092 Validation acc= 0.975799739\n",
      "Epoch: 0093 Training cost= 0.206074331\n",
      "Epoch: 0093 Validation acc= 0.977399707\n",
      "Epoch: 0094 Training cost= 0.195836283\n",
      "Epoch: 0094 Validation acc= 0.978199720\n",
      "Epoch: 0095 Training cost= 0.184348083\n",
      "Epoch: 0095 Validation acc= 0.976799667\n",
      "Epoch: 0096 Training cost= 0.177935783\n",
      "Epoch: 0096 Validation acc= 0.974799752\n",
      "Epoch: 0097 Training cost= 0.170420442\n",
      "Epoch: 0097 Validation acc= 0.977799714\n",
      "Epoch: 0098 Training cost= 0.166264389\n",
      "Epoch: 0098 Validation acc= 0.979799628\n",
      "Epoch: 0099 Training cost= 0.162785649\n",
      "Epoch: 0099 Validation acc= 0.976399720\n",
      "Epoch: 0100 Training cost= 0.159062386\n",
      "Epoch: 0100 Validation acc= 0.978199780\n",
      "Epoch: 0101 Training cost= 0.156110233\n",
      "Epoch: 0101 Validation acc= 0.975999773\n",
      "Validation loss stopped improving, stopping training early after 101 epochs!\n",
      "Optimization Finished!\n",
      "Accuracy on test set: 0.9742\n"
     ]
    },
    {
     "data": {
      "image/png": "[encoded data removed]",
      "text/plain": [
       "<matplotlib.figure.Figure at 0x55f68f9c3b50>"
      ]
     },
     "metadata": {
      "tags": []
     },
     "output_type": "display_data"
    },
    {
     "data": {
      "image/png": "[encoded data removed]",
      "text/plain": [
       "<matplotlib.figure.Figure at 0x55f69bb1d690>"
      ]
     },
     "metadata": {
      "tags": []
     },
     "output_type": "display_data"
    },
    {
     "name": "stdout",
     "output_type": "stream",
     "text": [
      "CPU times: user 3min 43s, sys: 22 s, total: 4min 5s\n",
      "Wall time: 2min 46s\n"
     ]
    }
   ],
   "source": [
    "%%time \n",
    "\n",
    "# Specify the model hyperparameters (NOTE: All the defaults can be omitted):\n",
    "model_params = {\n",
    "        'hidden_sizes' : [512, 512], # List of hidden layer dimensions, empty for linear model.\n",
    "        'l2_lambda' : 1e-3                     # Strength of L2 regularization.\n",
    "}\n",
    "\n",
    "# Specify the training hyperparameters:\n",
    "training_params = {\n",
    "        'num_epochs' : 200,     # Max epochs/iterations to train for.\n",
    "        'report_every' : 1,     # Report training results every nr of epochs.\n",
    "        'eval_every' : 1,         # Evaluate on validation data every nr of epochs.\n",
    "        'stop_early' : True,    # Use early stopping or not.\n",
    "}\n",
    "\n",
    "# Build, train, evaluate and plot the results!\n",
    "trained_model, training_results = build_train_eval_and_plot(\n",
    "        model_params, \n",
    "        training_params, \n",
    "        verbose=True    # Modify as desired.\n",
    ")\n",
    "\n",
    "    "
   ]
  },
  {
   "cell_type": "markdown",
   "metadata": {
    "colab_type": "text",
    "id": "4F5tXNkiHSOQ"
   },
   "source": [
    "You should get around **97.4**%. Shouldn't deeper do better?! Why is it that the 2-hidden layer model\n",
    "\n",
    "* ***took much longer to train*** (2min 46s versus 1min 3s on our system), and\n",
    "* ***got roughly the same accuracy*** as the 1 hidden layer model (sometimes worse)?\n",
    "\n",
    "This illustrates the **fundamental difficulty of training deep networks** that have plagued deep learning research for decades (and to some extent, still do): \n",
    "\n",
    "> ***Although deeper networks can give you more powerful models, training those models to find the right parameters is not always easy & takes a lot of computing power (time)!***\n",
    "\n",
    "For a long time people just believed it wouldn't work because a) fewer people tried to make it work, and those who did b) didn't have enough data or computing power to really explore the vast space of hyperparameters. These days, we have more data and more compute power, however one can never have 'enough' resources :) This is where the art of doing proper hyper-parameter selection comes in. In fact, we should be able to squeeze out another percentage point or so by choosing better:\n",
    "\n",
    "* Optimizer + its hyperparams (learning rate, momentum rates, etc)\n",
    "* batch-size,\n",
    "* choice of regularization.\n",
    "\n",
    "For a new problem, we will typically spend most of our time exploring these choices, usually just by launching many different training runs (hopefully in parallel and using GPUs!) and keeping the best ones.\n"
   ]
  },
  {
   "cell_type": "markdown",
   "metadata": {
    "colab_type": "text",
    "id": "tzyUXqInbqaB"
   },
   "source": [
    "# EXTRA: How to Choose Architectures?\n",
    "\n",
    "How does one design new architectures? Should you use:\n",
    "\n",
    "* a tapered architecture (large-medium-small),\n",
    "* a \"regular\" (like the Levi's :) architecture (large-med-med-...-small),\n",
    "* a \"bottlenecked\" architecutre (large-small-large)?\n",
    "* an \"over-complete\" architecture (small-large-small). \n",
    "\n",
    "Unfortunately it mostly comes down to just developing your own intuition over time, and trying different approaches in hyperparameter search. \n",
    "\n",
    "However, a good pattern to follow in general is something like the following:\n",
    "\n",
    "1. Start with a basic architecture and overfit a portion of your training data.\n",
    "2. As you train on more data, add capacity and prevent overfitting by\n",
    "    * Adding more units to the hidden layer (often times wide still beats deep)\n",
    "    * Add one or two more hidden layers, trying some architectural choices mentioned above.\n",
    "    * Add dropout.\n",
    "    \n",
    "The goal is to match your architecture to your data, meaning you have just enough capacity to fit the data, but not too much to easily overfit. The easiest way to do this is to gradually build up the capacity of your model in this way."
   ]
  },
  {
   "cell_type": "markdown",
   "metadata": {
    "colab_type": "text",
    "id": "vkrPMrQoSfK0"
   },
   "source": [
    "# EXTRA: Hyperparameter Selection (USE A GPU INSTANCE FOR THIS)\n",
    "\n",
    "## Random grid-search\n",
    "\n",
    "Most of the deep learning practitioner's time will be spent training and evaluating new model architectures with different hyperparameter combinations.    General rules of thumb exist, but often times change for each new architecture or dataset. Several approaches exist for automatic hyperparameter selection (grid search, random search, Bayesian methods). In practice, most people just use a **randomized grid-search** approach to try out different hyperparams, where one defines sensible values for each hyperparameter, and then randomly samples from the (cross-product space) of all of these possible combinations. This space grows exponentially, making exhaustive search infeasible for all but the simplest models. In practice, randomized search have also been found to find the best values, quicker (see [Bergstra and Bengio 2009](http://www.jmlr.org/papers/volume13/bergstra12a/bergstra12a.pdf) if you're interested in the details).\n",
    "\n",
    "Below, we will illustrate the basic idea with a skeleton randomized grid search implementation. In practice, one would launch these different runs in parallel on a computing cluster, making it easier to explore multiple options at the same time. Here, we would just try out a few different options to get a sense for how that would work. \n",
    "\n",
    "**NOTE**: We will keep the models small here (so we won't get SOTA results), in order to keep the training times reasonable, but to illustrate how dependent results are on these choices.\n",
    "\n",
    "**Architecture Selection**: Let's consider 1 and 2-hidden layer models. For each layer, we'll try out [128, 256] neurons per layer. We'll stick to ReLUs for this.\n",
    "\n",
    "**Hyperparameters**: Let's pick SGD with Momentum as our optimizer (a good, stable workhorse), with a fixed computational budget of 20 training epochs. We'll need to pick ranges for the following:\n",
    "* *learning rate*: we'll use a log-scale from 1e-5 to 1.\n",
    "* *momentum coefficient*: we'll use a log-scale from 5e-1 (0.5) to 1.\n",
    "* *L2 regularization*: we'll use a log-scale from 1e-5 to 1.\n"
   ]
  },
  {
   "cell_type": "code",
   "execution_count": 7,
   "metadata": {
    "colab": {
     "autoexec": {
      "startup": false,
      "wait_interval": 0
     },
     "height": 71,
     "output_extras": [
      {
       "item_id": 1
      }
     ]
    },
    "colab_type": "code",
    "executionInfo": {
     "elapsed": 522,
     "status": "ok",
     "timestamp": 1503658401647,
     "user": {
      "displayName": "Stephan Gouws",
      "photoUrl": "//lh4.googleusercontent.com/-6znVyM1oxdg/AAAAAAAAAAI/AAAAAAAAABI/vEPo2Ce7Rpc/s50-c-k-no/photo.jpg",
      "userId": "102606466886131565871"
     },
     "user_tz": -60
    },
    "id": "kyf_7dWqd_p1",
    "outputId": "cb4464de-cff7-4eee-a798-e11eaef911ec"
   },
   "outputs": [
    {
     "name": "stdout",
     "output_type": "stream",
     "text": [
      "{'hidden_sizes': [256, 128], 'l2_lambda': 0.0054235896697678509}\n",
      "{'eval_every': 1, 'report_every': 1, 'optimizer_fn': <google3.third_party.tensorflow.python.training.momentum.MomentumOptimizer object at 0x55725cae8a90>, 'num_epochs': 20, 'stop_early': True}\n"
     ]
    }
   ],
   "source": [
    "def sample_log_scale(v_min=1e-6, v_max=1.):\n",
    "    '''Sample uniformly on a log-scale from 10**v_min to 10**v_max.'''\n",
    "    return np.exp(np.random.uniform(np.log(v_min), np.log(v_max)))\n",
    "\n",
    "\n",
    "def sample_model_architecture_and_hyperparams(max_num_layers=2,\n",
    "                                              lr_min=1e-6,\n",
    "                                              lr_max=1.,\n",
    "                                              mom_min=0.5,\n",
    "                                              mom_max=1.,\n",
    "                                              l2_min=1e-4,\n",
    "                                              l2_max=1.):\n",
    "        '''Generate a random model architecture & hyperparameters.'''\n",
    "        \n",
    "        # Sample the architecture.\n",
    "        num_layers = np.random.choice(range(1, max_num_layers+1))\n",
    "        hidden_sizes = []\n",
    "        layer_ranges=[128, 256]\n",
    "        for l in range(num_layers):\n",
    "            hidden_sizes.append(np.random.choice(layer_ranges))\n",
    "        \n",
    "        # Sample the training parameters.\n",
    "        l2_lambda = sample_log_scale(l2_min, l2_max)\n",
    "        lr = sample_log_scale(lr_min, lr_max)\n",
    "        mom_coeff = sample_log_scale(mom_min, mom_max)\n",
    "        \n",
    "        # Build base model definitions:\n",
    "        model_params = {\n",
    "                'hidden_sizes' : hidden_sizes,\n",
    "                'l2_lambda' : l2_lambda}\n",
    "\n",
    "        # Specify the training hyperparameters:\n",
    "        training_params = {\n",
    "                'num_epochs' : 20,\n",
    "                'optimizer_fn' : tf.train.MomentumOptimizer(\n",
    "                        learning_rate=lr, \n",
    "                        momentum=mom_coeff),\n",
    "                'report_every' : 1,\n",
    "                'eval_every' : 1,\n",
    "                'stop_early' : True}\n",
    "        \n",
    "        return model_params, training_params\n",
    "\n",
    "# TEST THIS: Run this cell a few times and look at the different outputs. \n",
    "# Each of these will be a different model trained with different hyperparameters.\n",
    "m, t = sample_model_architecture_and_hyperparams()\n",
    "print m\n",
    "print t\n"
   ]
  },
  {
   "cell_type": "markdown",
   "metadata": {
    "colab_type": "text",
    "id": "VPXaIIZteNU-"
   },
   "source": [
    "We will play around with the strength of the L2 regularization. Let's use SGD+Momentum, and run for a fixed budget of 20 epochs:"
   ]
  },
  {
   "cell_type": "code",
   "execution_count": 56,
   "metadata": {
    "colab": {
     "autoexec": {
      "startup": false,
      "wait_interval": 0
     },
     "height": 1108,
     "output_extras": [
      {
       "item_id": 10
      }
     ]
    },
    "colab_type": "code",
    "executionInfo": {
     "elapsed": 189573,
     "status": "ok",
     "timestamp": 1503227140737,
     "user": {
      "displayName": "Stephan Gouws",
      "photoUrl": "//lh4.googleusercontent.com/-6znVyM1oxdg/AAAAAAAAAAI/AAAAAAAAABI/vEPo2Ce7Rpc/s50-c-k-no/photo.jpg",
      "userId": "102606466886131565871"
     },
     "user_tz": -60
    },
    "id": "Kyb7EOJWiehX",
    "outputId": "f221c2a9-4443-4a6d-977c-5b65e5087b74"
   },
   "outputs": [
    {
     "name": "stdout",
     "output_type": "stream",
     "text": [
      "RUN: 0 out of 10:\n",
      "Sampled Architecture: \n",
      "{'hidden_sizes': [256], 'l2_lambda': 0.017639122106750327}\n",
      "Hyper-parameters:\n",
      "{'stop_early': True, 'report_every': 1, 'eval_every': 1, 'num_epochs': 20, 'optimizer_fn': <google3.third_party.tensorflow.python.training.momentum.MomentumOptimizer object at 0x556eca7c8c90>}\n",
      "Validation loss stopped improving, stopping training early after 3 epochs!\n",
      "Optimization Finished!\n",
      "RUN: 1 out of 10:\n",
      "Sampled Architecture: \n",
      "{'hidden_sizes': [256], 'l2_lambda': 0.00071915651503389648}\n",
      "Hyper-parameters:\n",
      "{'stop_early': True, 'report_every': 1, 'eval_every': 1, 'num_epochs': 20, 'optimizer_fn': <google3.third_party.tensorflow.python.training.momentum.MomentumOptimizer object at 0x556eca247f10>}\n",
      "Optimization Finished!\n",
      "RUN: 2 out of 10:\n",
      "Sampled Architecture: \n",
      "{'hidden_sizes': [256], 'l2_lambda': 0.034917746813186976}\n",
      "Hyper-parameters:\n",
      "{'stop_early': True, 'report_every': 1, 'eval_every': 1, 'num_epochs': 20, 'optimizer_fn': <google3.third_party.tensorflow.python.training.momentum.MomentumOptimizer object at 0x556eca7c8a10>}\n",
      "Validation loss stopped improving, stopping training early after 5 epochs!\n",
      "Optimization Finished!\n",
      "RUN: 3 out of 10:\n",
      "Sampled Architecture: \n",
      "{'hidden_sizes': [128, 128], 'l2_lambda': 0.0011477153620692811}\n",
      "Hyper-parameters:\n",
      "{'stop_early': True, 'report_every': 1, 'eval_every': 1, 'num_epochs': 20, 'optimizer_fn': <google3.third_party.tensorflow.python.training.momentum.MomentumOptimizer object at 0x556ecba07d10>}\n",
      "Optimization Finished!\n",
      "RUN: 4 out of 10:\n",
      "Sampled Architecture: \n",
      "{'hidden_sizes': [128, 128], 'l2_lambda': 0.0066110195159220803}\n",
      "Hyper-parameters:\n",
      "{'stop_early': True, 'report_every': 1, 'eval_every': 1, 'num_epochs': 20, 'optimizer_fn': <google3.third_party.tensorflow.python.training.momentum.MomentumOptimizer object at 0x556e59bd68d0>}\n",
      "Optimization Finished!\n",
      "RUN: 5 out of 10:\n",
      "Sampled Architecture: \n",
      "{'hidden_sizes': [256], 'l2_lambda': 0.00064575036694946794}\n",
      "Hyper-parameters:\n",
      "{'stop_early': True, 'report_every': 1, 'eval_every': 1, 'num_epochs': 20, 'optimizer_fn': <google3.third_party.tensorflow.python.training.momentum.MomentumOptimizer object at 0x556ecabea5d0>}\n",
      "Optimization Finished!\n",
      "RUN: 6 out of 10:\n",
      "Sampled Architecture: \n",
      "{'hidden_sizes': [128, 128], 'l2_lambda': 0.013143246333050255}\n",
      "Hyper-parameters:\n",
      "{'stop_early': True, 'report_every': 1, 'eval_every': 1, 'num_epochs': 20, 'optimizer_fn': <google3.third_party.tensorflow.python.training.momentum.MomentumOptimizer object at 0x556eb9135650>}\n",
      "Optimization Finished!\n",
      "RUN: 7 out of 10:\n",
      "Sampled Architecture: \n",
      "{'hidden_sizes': [128, 128], 'l2_lambda': 0.00017646189551092479}\n",
      "Hyper-parameters:\n",
      "{'stop_early': True, 'report_every': 1, 'eval_every': 1, 'num_epochs': 20, 'optimizer_fn': <google3.third_party.tensorflow.python.training.momentum.MomentumOptimizer object at 0x556ec9811090>}\n",
      "Optimization Finished!\n",
      "RUN: 8 out of 10:\n",
      "Sampled Architecture: \n",
      "{'hidden_sizes': [256], 'l2_lambda': 0.00012706891665017044}\n",
      "Hyper-parameters:\n",
      "{'stop_early': True, 'report_every': 1, 'eval_every': 1, 'num_epochs': 20, 'optimizer_fn': <google3.third_party.tensorflow.python.training.momentum.MomentumOptimizer object at 0x556ecb78fc10>}\n",
      "Validation loss stopped improving, stopping training early after 9 epochs!\n",
      "Optimization Finished!\n",
      "RUN: 9 out of 10:\n",
      "Sampled Architecture: \n",
      "{'hidden_sizes': [256], 'l2_lambda': 0.0029062557341502037}\n",
      "Hyper-parameters:\n",
      "{'stop_early': True, 'report_every': 1, 'eval_every': 1, 'num_epochs': 20, 'optimizer_fn': <google3.third_party.tensorflow.python.training.momentum.MomentumOptimizer object at 0x556eca24d890>}\n",
      "Optimization Finished!\n"
     ]
    }
   ],
   "source": [
    "results = []\n",
    "\n",
    "# Perform a random search over hyper-parameter space this many times.\n",
    "NUM_EXPERIMENTS = 10\n",
    "\n",
    "for i in range(NUM_EXPERIMENTS): \n",
    "    \n",
    "    # Sample the model and hyperparams we are using.\n",
    "    model_params, training_params = sample_model_architecture_and_hyperparams()\n",
    "    \n",
    "    print \"RUN: %d out of %d:\" % (i, NUM_EXPERIMENTS)\n",
    "    print \"Sampled Architecture: \\n\", model_params\n",
    "    print \"Hyper-parameters:\\n\", training_params\n",
    "    \n",
    "    # Build, train, evaluate\n",
    "    model, performance = build_train_eval_and_plot(\n",
    "            model_params, training_params, verbose=False)\n",
    "    \n",
    "    # Save results\n",
    "    results.append((performance['test_acc'], model_params, training_params))\n",
    "    \n",
    "# Display (best?) results/variance/etc:\n",
    "results.sort(key=lambda x : x[0], reverse=True)"
   ]
  },
  {
   "cell_type": "code",
   "execution_count": 57,
   "metadata": {
    "colab": {
     "autoexec": {
      "startup": false,
      "wait_interval": 0
     },
     "height": 207,
     "output_extras": [
      {
       "item_id": 1
      }
     ]
    },
    "colab_type": "code",
    "executionInfo": {
     "elapsed": 65,
     "status": "ok",
     "timestamp": 1503228968350,
     "user": {
      "displayName": "Stephan Gouws",
      "photoUrl": "//lh4.googleusercontent.com/-6znVyM1oxdg/AAAAAAAAAAI/AAAAAAAAABI/vEPo2Ce7Rpc/s50-c-k-no/photo.jpg",
      "userId": "102606466886131565871"
     },
     "user_tz": -60
    },
    "id": "A6E0f3M02xB9",
    "outputId": "87d3d8a3-36dc-4f5a-d720-4ef6762f986a"
   },
   "outputs": [
    {
     "name": "stdout",
     "output_type": "stream",
     "text": [
      "(0.95090008, {'hidden_sizes': [128, 128], 'l2_lambda': 0.0066110195159220803}, {'stop_early': True, 'report_every': 1, 'eval_every': 1, 'num_epochs': 20, 'optimizer_fn': <google3.third_party.tensorflow.python.training.momentum.MomentumOptimizer object at 0x556e59bd68d0>})\n",
      "(0.94180018, {'hidden_sizes': [256], 'l2_lambda': 0.00064575036694946794}, {'stop_early': True, 'report_every': 1, 'eval_every': 1, 'num_epochs': 20, 'optimizer_fn': <google3.third_party.tensorflow.python.training.momentum.MomentumOptimizer object at 0x556ecabea5d0>})\n",
      "(0.92350012, {'hidden_sizes': [128, 128], 'l2_lambda': 0.013143246333050255}, {'stop_early': True, 'report_every': 1, 'eval_every': 1, 'num_epochs': 20, 'optimizer_fn': <google3.third_party.tensorflow.python.training.momentum.MomentumOptimizer object at 0x556eb9135650>})\n",
      "(0.8925001, {'hidden_sizes': [256], 'l2_lambda': 0.034917746813186976}, {'stop_early': True, 'report_every': 1, 'eval_every': 1, 'num_epochs': 20, 'optimizer_fn': <google3.third_party.tensorflow.python.training.momentum.MomentumOptimizer object at 0x556eca7c8a10>})\n",
      "(0.86520004, {'hidden_sizes': [128, 128], 'l2_lambda': 0.0011477153620692811}, {'stop_early': True, 'report_every': 1, 'eval_every': 1, 'num_epochs': 20, 'optimizer_fn': <google3.third_party.tensorflow.python.training.momentum.MomentumOptimizer object at 0x556ecba07d10>})\n",
      "(0.71679997, {'hidden_sizes': [256], 'l2_lambda': 0.0029062557341502037}, {'stop_early': True, 'report_every': 1, 'eval_every': 1, 'num_epochs': 20, 'optimizer_fn': <google3.third_party.tensorflow.python.training.momentum.MomentumOptimizer object at 0x556eca24d890>})\n",
      "(0.69389999, {'hidden_sizes': [256], 'l2_lambda': 0.017639122106750327}, {'stop_early': True, 'report_every': 1, 'eval_every': 1, 'num_epochs': 20, 'optimizer_fn': <google3.third_party.tensorflow.python.training.momentum.MomentumOptimizer object at 0x556eca7c8c90>})\n",
      "(0.28809997, {'hidden_sizes': [256], 'l2_lambda': 0.00071915651503389648}, {'stop_early': True, 'report_every': 1, 'eval_every': 1, 'num_epochs': 20, 'optimizer_fn': <google3.third_party.tensorflow.python.training.momentum.MomentumOptimizer object at 0x556eca247f10>})\n",
      "(0.20929998, {'hidden_sizes': [256], 'l2_lambda': 0.00012706891665017044}, {'stop_early': True, 'report_every': 1, 'eval_every': 1, 'num_epochs': 20, 'optimizer_fn': <google3.third_party.tensorflow.python.training.momentum.MomentumOptimizer object at 0x556ecb78fc10>})\n",
      "(0.1135, {'hidden_sizes': [128, 128], 'l2_lambda': 0.00017646189551092479}, {'stop_early': True, 'report_every': 1, 'eval_every': 1, 'num_epochs': 20, 'optimizer_fn': <google3.third_party.tensorflow.python.training.momentum.MomentumOptimizer object at 0x556ec9811090>})\n"
     ]
    }
   ],
   "source": [
    "for r in results:\n",
    "    print r    # Tuples of (test_accuracy, model_hyperparameters, training_hyperparameters)"
   ]
  },
  {
   "cell_type": "markdown",
   "metadata": {
    "colab_type": "text",
    "id": "cgu2OxMS41sF"
   },
   "source": [
    "**Notice the huuuuge variance in the test accuracies!** This is just a toy run, but hopefully it illustrates how important choosing the right architectures and training hyperparameters is to getting good results in deep learning.\n",
    "\n",
    "Below, we've included some hyperparameter settings which achieve near state-of-the-art results."
   ]
  },
  {
   "cell_type": "markdown",
   "metadata": {
    "colab_type": "text",
    "id": "bsCJW0_gRFX8"
   },
   "source": [
    "# EXTRA: Known Good Models"
   ]
  },
  {
   "cell_type": "markdown",
   "metadata": {
    "colab_type": "text",
    "id": "x0pO_4fQm8xi"
   },
   "source": [
    "## 784-500-300-10 w/ L2 + SGD + Momentum\n",
    "\n",
    "**Best so far: 98.02% test accuracy when we ran this (well, in one of our training runs :).**"
   ]
  },
  {
   "cell_type": "code",
   "execution_count": 13,
   "metadata": {
    "colab": {
     "autoexec": {
      "startup": false,
      "wait_interval": 0
     },
     "height": 3602,
     "output_extras": [
      {
       "item_id": 49
      },
      {
       "item_id": 88
      },
      {
       "item_id": 89
      },
      {
       "item_id": 90
      },
      {
       "item_id": 91
      }
     ]
    },
    "colab_type": "code",
    "executionInfo": {
     "elapsed": 129328,
     "status": "ok",
     "timestamp": 1503057210512,
     "user": {
      "displayName": "Stephan Gouws",
      "photoUrl": "//lh4.googleusercontent.com/-6znVyM1oxdg/AAAAAAAAAAI/AAAAAAAAABI/vEPo2Ce7Rpc/s50-c-k-no/photo.jpg",
      "userId": "102606466886131565871"
     },
     "user_tz": -60
    },
    "id": "J1spLw65l7mY",
    "outputId": "ac425ebc-96c1-4025-e493-ad3818bfc5b8"
   },
   "outputs": [
    {
     "name": "stdout",
     "output_type": "stream",
     "text": [
      "Epoch: 0001 Training cost= 327.262532238\n",
      "Epoch: 0001 Validation acc= 0.435399979\n",
      "Epoch: 0002 Training cost= 251.312214827\n",
      "Epoch: 0002 Validation acc= 0.542799890\n",
      "Epoch: 0003 Training cost= 224.936292614\n",
      "Epoch: 0003 Validation acc= 0.605999947\n",
      "Epoch: 0004 Training cost= 201.409107805\n",
      "Epoch: 0004 Validation acc= 0.626999915\n",
      "Epoch: 0005 Training cost= 180.312732350\n",
      "Epoch: 0005 Validation acc= 0.656599879\n",
      "Epoch: 0006 Training cost= 161.427582259\n",
      "Epoch: 0006 Validation acc= 0.692799866\n",
      "Epoch: 0007 Training cost= 144.570377253\n",
      "Epoch: 0007 Validation acc= 0.730599880\n",
      "Epoch: 0008 Training cost= 129.454500316\n",
      "Epoch: 0008 Validation acc= 0.729999840\n",
      "Epoch: 0009 Training cost= 115.930559138\n",
      "Epoch: 0009 Validation acc= 0.764599860\n",
      "Epoch: 0010 Training cost= 103.779861076\n",
      "Epoch: 0010 Validation acc= 0.817999840\n",
      "Epoch: 0011 Training cost= 92.894099121\n",
      "Epoch: 0011 Validation acc= 0.848599792\n",
      "Epoch: 0012 Training cost= 83.177957764\n",
      "Epoch: 0012 Validation acc= 0.874799788\n",
      "Epoch: 0013 Training cost= 74.441788441\n",
      "Epoch: 0013 Validation acc= 0.866999805\n",
      "Epoch: 0014 Training cost= 66.607071221\n",
      "Epoch: 0014 Validation acc= 0.908799767\n",
      "Epoch: 0015 Training cost= 59.628462719\n",
      "Epoch: 0015 Validation acc= 0.920999765\n",
      "Epoch: 0016 Training cost= 53.376457901\n",
      "Epoch: 0016 Validation acc= 0.927999735\n",
      "Epoch: 0017 Training cost= 47.795069421\n",
      "Epoch: 0017 Validation acc= 0.921199799\n",
      "Epoch: 0018 Training cost= 42.801629826\n",
      "Epoch: 0018 Validation acc= 0.938799739\n",
      "Epoch: 0019 Training cost= 38.321246601\n",
      "Epoch: 0019 Validation acc= 0.939399719\n",
      "Epoch: 0020 Training cost= 34.317467527\n",
      "Epoch: 0020 Validation acc= 0.943799734\n",
      "Epoch: 0021 Training cost= 30.729907542\n",
      "Epoch: 0021 Validation acc= 0.950399756\n",
      "Epoch: 0022 Training cost= 27.518849869\n",
      "Epoch: 0022 Validation acc= 0.948799729\n",
      "Epoch: 0023 Training cost= 24.648165835\n",
      "Epoch: 0023 Validation acc= 0.949599802\n",
      "Epoch: 0024 Training cost= 22.077698746\n",
      "Epoch: 0024 Validation acc= 0.954999745\n",
      "Epoch: 0025 Training cost= 19.774227052\n",
      "Epoch: 0025 Validation acc= 0.954399645\n",
      "Epoch: 0026 Training cost= 17.714090944\n",
      "Epoch: 0026 Validation acc= 0.957399666\n",
      "Epoch: 0027 Training cost= 15.867918540\n",
      "Epoch: 0027 Validation acc= 0.960799754\n",
      "Epoch: 0028 Training cost= 14.219327608\n",
      "Epoch: 0028 Validation acc= 0.961799681\n",
      "Epoch: 0029 Training cost= 12.738986726\n",
      "Epoch: 0029 Validation acc= 0.963399768\n",
      "Epoch: 0030 Training cost= 11.412021542\n",
      "Epoch: 0030 Validation acc= 0.968799710\n",
      "Epoch: 0031 Training cost= 10.229510890\n",
      "Epoch: 0031 Validation acc= 0.965799749\n",
      "Epoch: 0032 Training cost= 9.169845919\n",
      "Epoch: 0032 Validation acc= 0.967199683\n",
      "Epoch: 0033 Training cost= 8.216691914\n",
      "Epoch: 0033 Validation acc= 0.969199717\n",
      "Epoch: 0034 Training cost= 7.367491474\n",
      "Epoch: 0034 Validation acc= 0.970399737\n",
      "Epoch: 0035 Training cost= 6.608459154\n",
      "Epoch: 0035 Validation acc= 0.972999692\n",
      "Epoch: 0036 Training cost= 5.925226277\n",
      "Epoch: 0036 Validation acc= 0.969599724\n",
      "Epoch: 0037 Training cost= 5.316913984\n",
      "Epoch: 0037 Validation acc= 0.973999679\n",
      "Epoch: 0038 Training cost= 4.772619098\n",
      "Epoch: 0038 Validation acc= 0.973199725\n",
      "Epoch: 0039 Training cost= 4.282892211\n",
      "Epoch: 0039 Validation acc= 0.973599672\n",
      "Epoch: 0040 Training cost= 3.846757963\n",
      "Epoch: 0040 Validation acc= 0.973599792\n",
      "Epoch: 0041 Training cost= 3.455926691\n",
      "Epoch: 0041 Validation acc= 0.976799786\n",
      "Epoch: 0042 Training cost= 3.105613444\n",
      "Epoch: 0042 Validation acc= 0.975199699\n",
      "Epoch: 0043 Training cost= 2.793994174\n",
      "Epoch: 0043 Validation acc= 0.976199746\n",
      "Epoch: 0044 Training cost= 2.512941882\n",
      "Epoch: 0044 Validation acc= 0.975399733\n",
      "Epoch: 0045 Training cost= 2.262076859\n",
      "Epoch: 0045 Validation acc= 0.976999760\n",
      "Epoch: 0046 Training cost= 2.037694932\n",
      "Epoch: 0046 Validation acc= 0.975999653\n",
      "Epoch: 0047 Training cost= 1.837552240\n",
      "Epoch: 0047 Validation acc= 0.976399660\n",
      "Epoch: 0048 Training cost= 1.657969395\n",
      "Epoch: 0048 Validation acc= 0.975599706\n",
      "Epoch: 0049 Training cost= 1.496847012\n",
      "Epoch: 0049 Validation acc= 0.976999760\n",
      "Epoch: 0050 Training cost= 1.352709585\n",
      "Epoch: 0050 Validation acc= 0.978399754\n",
      "Epoch: 0051 Training cost= 1.223720786\n",
      "Epoch: 0051 Validation acc= 0.978799701\n",
      "Epoch: 0052 Training cost= 1.108979440\n",
      "Epoch: 0052 Validation acc= 0.978399634\n",
      "Epoch: 0053 Training cost= 1.005705943\n",
      "Epoch: 0053 Validation acc= 0.977999747\n",
      "Epoch: 0054 Training cost= 0.913236865\n",
      "Epoch: 0054 Validation acc= 0.978799701\n",
      "Epoch: 0055 Training cost= 0.830339956\n",
      "Epoch: 0055 Validation acc= 0.979199767\n",
      "Epoch: 0056 Training cost= 0.755614541\n",
      "Epoch: 0056 Validation acc= 0.978599668\n",
      "Epoch: 0057 Training cost= 0.689879866\n",
      "Epoch: 0057 Validation acc= 0.979399741\n",
      "Epoch: 0058 Training cost= 0.631272063\n",
      "Epoch: 0058 Validation acc= 0.978599787\n",
      "Epoch: 0059 Training cost= 0.578013867\n",
      "Epoch: 0059 Validation acc= 0.978799701\n",
      "Epoch: 0060 Training cost= 0.530160095\n",
      "Epoch: 0060 Validation acc= 0.979799747\n",
      "Epoch: 0061 Training cost= 0.487254938\n",
      "Epoch: 0061 Validation acc= 0.979799747\n",
      "Epoch: 0062 Training cost= 0.449552791\n",
      "Epoch: 0062 Validation acc= 0.980399728\n",
      "Epoch: 0063 Training cost= 0.415439274\n",
      "Epoch: 0063 Validation acc= 0.978799701\n",
      "Epoch: 0064 Training cost= 0.384874637\n",
      "Epoch: 0064 Validation acc= 0.979999721\n",
      "Epoch: 0065 Training cost= 0.356752845\n",
      "Epoch: 0065 Validation acc= 0.978199661\n",
      "Epoch: 0066 Training cost= 0.332616655\n",
      "Epoch: 0066 Validation acc= 0.979799747\n",
      "Epoch: 0067 Training cost= 0.309994660\n",
      "Epoch: 0067 Validation acc= 0.979199767\n",
      "Epoch: 0068 Training cost= 0.290989620\n",
      "Epoch: 0068 Validation acc= 0.979599655\n",
      "Epoch: 0069 Training cost= 0.272564379\n",
      "Epoch: 0069 Validation acc= 0.980599701\n",
      "Epoch: 0070 Training cost= 0.256773828\n",
      "Epoch: 0070 Validation acc= 0.980799794\n",
      "Epoch: 0071 Training cost= 0.242967232\n",
      "Epoch: 0071 Validation acc= 0.979999661\n",
      "Epoch: 0072 Training cost= 0.230392076\n",
      "Epoch: 0072 Validation acc= 0.979199708\n",
      "Epoch: 0073 Training cost= 0.218723012\n",
      "Epoch: 0073 Validation acc= 0.980599761\n",
      "Epoch: 0074 Training cost= 0.208804401\n",
      "Epoch: 0074 Validation acc= 0.980199695\n",
      "Epoch: 0075 Training cost= 0.198739098\n",
      "Epoch: 0075 Validation acc= 0.981199682\n",
      "Epoch: 0076 Training cost= 0.190688753\n",
      "Epoch: 0076 Validation acc= 0.979799688\n",
      "Epoch: 0077 Training cost= 0.183180254\n",
      "Epoch: 0077 Validation acc= 0.980599761\n",
      "Epoch: 0078 Training cost= 0.176371708\n",
      "Epoch: 0078 Validation acc= 0.980599761\n",
      "Epoch: 0079 Training cost= 0.170845800\n",
      "Epoch: 0079 Validation acc= 0.979599714\n",
      "Epoch: 0080 Training cost= 0.165155359\n",
      "Epoch: 0080 Validation acc= 0.980199695\n",
      "Epoch: 0081 Training cost= 0.160126905\n",
      "Epoch: 0081 Validation acc= 0.979999721\n",
      "Epoch: 0082 Training cost= 0.155851784\n",
      "Epoch: 0082 Validation acc= 0.982599735\n",
      "Epoch: 0083 Training cost= 0.152026351\n",
      "Epoch: 0083 Validation acc= 0.980199695\n",
      "Epoch: 0084 Training cost= 0.147996796\n",
      "Epoch: 0084 Validation acc= 0.981599748\n",
      "Epoch: 0085 Training cost= 0.146238381\n",
      "Epoch: 0085 Validation acc= 0.980599761\n",
      "Epoch: 0086 Training cost= 0.142040186\n",
      "Epoch: 0086 Validation acc= 0.981599689\n",
      "Epoch: 0087 Training cost= 0.138474341\n",
      "Epoch: 0087 Validation acc= 0.981799722\n",
      "Epoch: 0088 Training cost= 0.137078403\n",
      "Epoch: 0088 Validation acc= 0.980999768\n",
      "Validation loss stopped improving, stopping training early after 88 epochs!\n",
      "Optimization Finished!\n",
      "Accuracy on test set: 0.9798\n"
     ]
    },
    {
     "data": {
      "image/png": "[encoded data removed]",
      "text/plain": [
       "<matplotlib.figure.Figure at 0x556eb9081210>"
      ]
     },
     "metadata": {
      "tags": []
     },
     "output_type": "display_data"
    },
    {
     "data": {
      "image/png": "[encoded data removed]",
      "text/plain": [
       "<matplotlib.figure.Figure at 0x556eae026510>"
      ]
     },
     "metadata": {
      "tags": []
     },
     "output_type": "display_data"
    },
    {
     "name": "stdout",
     "output_type": "stream",
     "text": [
      "CPU times: user 2min 47s, sys: 32.3 s, total: 3min 19s\n",
      "Wall time: 2min 8s\n"
     ]
    }
   ],
   "source": [
    "%%time \n",
    "\n",
    "# Specify the model hyperparameters (NOTE: All the defaults can be omitted):\n",
    "model_params = {\n",
    "        'hidden_sizes' : [500, 300], # List of hidden layer dimensions, empty for linear model.\n",
    "        'l2_lambda' : 1e-3                     # Strength of L2 regularization.\n",
    "}\n",
    "\n",
    "# Specify the training hyperparameters:\n",
    "training_params = {'num_epochs' : 100,     # Max epochs/iterations to train for.\n",
    "                        'optimizer_fn' : tf.train.MomentumOptimizer(learning_rate=2e-3, momentum=0.98),\n",
    "                        'report_every' : 1, # Report training results every nr of epochs.\n",
    "                        'eval_every' : 1,     # Evaluate on validation data every nr of epochs.\n",
    "                        'stop_early' : True,    # Use early stopping or not.\n",
    "}\n",
    "\n",
    "# Build, train, evaluate and plot the results!\n",
    "trained_model, training_results = build_train_eval_and_plot(\n",
    "        model_params, \n",
    "        training_params, \n",
    "        verbose=True    # Modify as desired.\n",
    ")"
   ]
  },
  {
   "cell_type": "markdown",
   "metadata": {
    "colab_type": "text",
    "id": "tB5r6-oLTzgE"
   },
   "source": [
    "# NB: Before you go (5min)\n",
    "\n",
    "Pair up with someone else and go through the questions in \"Learning Objectives\" at the top. Take turns explaining each of these to each other, and be sure to ask the tutors if you're both unsure!"
   ]
  },
  {
   "cell_type": "markdown",
   "metadata": {
    "colab_type": "text",
    "id": "3ryLRtd2XfeX"
   },
   "source": [
    "# Additional Resources\n",
    "\n"
   ]
  },
  {
   "cell_type": "markdown",
   "metadata": {
    "colab_type": "text",
    "id": "PTnXEgI1oMY9"
   },
   "source": [
    "* TensorFlow Debugging (useful tips and code patterns): https://github.com/wookayin/tensorflow-talk-debugging\n"
   ]
  },
  {
   "cell_type": "markdown",
   "metadata": {
    "colab_type": "text",
    "id": "0ZrPt_Ao3z1U"
   },
   "source": [
    "# Feedback\n",
    "\n",
    "Please send any bugs and comments to dli-practicals@googlegroups.com."
   ]
  }
 ],
 "metadata": {
  "colab": {
   "default_view": {},
   "last_runtime": {
    "build_target": "",
    "kind": "local"
   },
   "name": "Practical 2: Deep MNIST and Best Practices (Solution)",
   "provenance": [],
   "version": "0.3.2",
   "views": {}
  },
  "kernelspec": {
   "display_name": "Python 3",
   "language": "python",
   "name": "python3"
  },
  "language_info": {
   "codemirror_mode": {
    "name": "ipython",
    "version": 3
   },
   "file_extension": ".py",
   "mimetype": "text/x-python",
   "name": "python",
   "nbconvert_exporter": "python",
   "pygments_lexer": "ipython3",
   "version": "3.5.2"
  }
 },
 "nbformat": 4,
 "nbformat_minor": 1
}
