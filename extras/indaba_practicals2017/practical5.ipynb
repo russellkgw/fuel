{
 "cells": [
  {
   "cell_type": "markdown",
   "metadata": {
    "colab_type": "text",
    "id": "dedOTO6itB-I"
   },
   "source": [
    "# DL Indaba Practical 5\n",
    "# Variational Auto-Encoders\n",
    "*Developed by Stephan Gouws, Avishkar Bhoopchand & Ulrich Paquet.*\n",
    "\n",
    "**Background**\n",
    "\n",
    "In this practical, our only aim is for you to understand what a variational auto-encoder (VAE) is. Some people prefer to call it \"auto-encoding variational Bayes\", which is technically more correct.\n",
    "\n",
    "If you are mathematically inclined, you are welcome to look at https://arxiv.org/pdf/1312.6114.pdf, but it is not neccessary for the scope of this practical.\n",
    "\n",
    "**Learning objectives**\n",
    "\n",
    "Our only aim for this practical is that you understand some key concepts:\n",
    "\n",
    "* What is meant by the posterior $p_{\\theta}(z|x)$, and why it's hard (intractable) to compute from $p_{\\theta}(x|z)$ and $p(z)$.\n",
    "* What is meant by an approximation to the posterior, $q_{\\phi}(z|x)$.\n",
    "* How we find a good approximation via a cleverly constructed optimization problem.\n",
    "\n",
    "**What is expected of you?**\n",
    "\n",
    "1. Run through all the cells below, in order, and consider the output. You should see a loss that becomes smaller and smaller, and some images that will, over time, start resembling MNIST digits.\n",
    "2. Once you've seen the final output, step through the cells again, top to bottom. As you do this, try to answer all the questions as they arise.\n",
    "\n",
    "\n"
   ]
  },
  {
   "cell_type": "code",
   "execution_count": 1,
   "metadata": {
    "colab": {
     "autoexec": {
      "startup": false,
      "wait_interval": 0
     }
    },
    "colab_type": "code",
    "collapsed": true,
    "id": "6rjEchQVpJUj"
   },
   "outputs": [],
   "source": [
    "import itertools\n",
    "import matplotlib as mpl\n",
    "import numpy as np\n",
    "import os\n",
    "import tensorflow as tf\n",
    "import time\n",
    "\n",
    "from matplotlib import pyplot as plt\n",
    "\n",
    "import tensorflow.contrib.slim as slim\n",
    "from tensorflow.examples.tutorials.mnist import input_data\n",
    "\n",
    "sg = tf.contrib.bayesflow.stochastic_graph\n",
    "st = tf.contrib.bayesflow.stochastic_tensor\n",
    "distributions = tf.contrib.distributions\n"
   ]
  },
  {
   "cell_type": "code",
   "execution_count": 2,
   "metadata": {
    "colab": {
     "autoexec": {
      "startup": false,
      "wait_interval": 0
     }
    },
    "colab_type": "code",
    "collapsed": true,
    "id": "jVDTqMdcpMqB"
   },
   "outputs": [],
   "source": [
    "tf.reset_default_graph()\n",
    "\n",
    "try:\n",
    "    flags = tf.app.flags\n",
    "    flags.DEFINE_string('data_dir', '/tmp/dat/', 'Directory for data')\n",
    "    flags.DEFINE_string('logdir', '/tmp/log/', 'Directory for logs')\n",
    "\n",
    "    flags.DEFINE_integer('latent_dim', 100, 'Latent dimensionality of model')\n",
    "    flags.DEFINE_integer('batch_size', 64, 'Minibatch size')\n",
    "    flags.DEFINE_integer('n_samples', 1, 'Number of samples to save')\n",
    "    flags.DEFINE_integer('print_every', 1000, 'Print every n iterations')\n",
    "    flags.DEFINE_integer('hidden_size', 200, 'Hidden size for neural networks')\n",
    "    # flags.DEFINE_integer('n_iterations', 1, 'number of iterations')\n",
    "except:\n",
    "    pass\n",
    "\n",
    "FLAGS = flags.FLAGS\n",
    "\n",
    "# Flags are immutable once defined. If you were to ever run big experiments,\n",
    "# you'd use something like FLAGS.n_iterations, but as you want to try things in\n",
    "# the cells below, we'll just make n_iterations something that you can change\n",
    "# to easily re-run.\n",
    "\n",
    "N_ITERATIONS = 10000\n"
   ]
  },
  {
   "cell_type": "markdown",
   "metadata": {
    "colab_type": "text",
    "id": "XA14YlfpKebs"
   },
   "source": [
    "Before continuing, you'll have to sharpen your mental mathematical pencils, and step through a derivation that you've encountered in the Deep Generative Models lecture.\n",
    "\n",
    "# An \"evidence lower bound\" (ELBO)\n",
    "\n",
    "\"Evidence? Of what?,\" you might ask. The term is short for \"model evidence\" $p_{\\theta}(x)$ and specifies how well the model supports the data point $x$. A more common term is \"marginal likelihood\", as we obtain it by marginalizing (or integrating or summing) out $z$ from $p_{\\theta}(x, z)$.\n",
    "\n",
    "Bayes's theorem states that\n",
    "\n",
    "\\begin{align}\n",
    "p_{\\theta}(z|x) & = \\frac{p_{\\theta}(x|z) \\, p(z)}{p_{\\theta}(x)} \\\\\n",
    "\\textrm{posterior} & = \\frac{\\textrm{likelihood} \\times \\textrm{prior}}{\\textrm{evidence (or marginal likelihood)}}\n",
    "\\end{align}\n",
    "\n",
    "and the denominator is an average of the likelihood over all prior assignments of $z$. Of course we can't compute it in most cases, and will find a way to approximate it as best we could.\n",
    "\n",
    "**What would we like to optimize?**\n",
    "\n",
    "We would like to optimize $\\log p_{\\theta}(x)$ over $\\theta$. It's the best description of the data, averaged over all prior settings of $z$. But we cannot compute it. Oh dear!\n",
    "\n",
    "If we were able to compute $p_{\\theta}(x)$, we would normally also be able to compute the true posterior $p_{\\theta}(z | x)$. These two are intimately tied.\n",
    "Let's say we want to know which settings of $z$ were responsible for generating the $x$ that we see.\n",
    "Instead of doing exact inference with $p_{\\theta}(z | x)$ (which is hard as we have to invert a complicated generative process) we will approximate it with another distribution $q_{\\phi}(z | x) \\approx p_{\\theta}(z | x)$.\n",
    "\n",
    "**A lower bound, a.k.a. \"sensible approximations rock!\"**\n",
    "\n",
    "For every data point (or MNIST image) $x$, we define the bound on the log marginal likelihood -- or ELBO -- as:\n",
    "\n",
    "\\begin{align}\n",
    "\\log p_{\\theta}(x) & = \\log \\int p_{\\theta}(x, z) \\, \\mathrm{d} z \\\\\n",
    "& = \\log \\int p_{\\theta}(x | z) \\, p(z) \\, \\mathrm{d} z \\\\\n",
    "& = \\log \\int q_{\\phi}(z | x) \\left[ \\frac{ p_{\\theta}(x | z) \\, p(z) }{q_{\\phi}(z | x)} \\right] \\mathrm{d} z \\\\\n",
    "& \\ge \\int q_{\\phi}(z | x) \\log \\left[ \\frac{ p_{\\theta}(x | z) \\, p(z) }{q_{\\phi}(z | x)} \\right] \\mathrm{d} z && \\triangleright \\textrm{Jensen's Inequality.}\\\\\n",
    "& = \\mathbb{E}_{q_{\\phi}(z|x)}\\Big[ \\log p_{\\theta}(x | z) + \\log p(z) - \\log q_{\\phi}(z | x)\\Big] \\\\\n",
    "& \\equiv \\mathcal{L}(\\theta, \\phi)\n",
    "\\end{align}\n",
    "\n",
    "The inequality arises due to [Jensen's inequality](https://en.wikipedia.org/wiki/Jensen%27s_inequality), since logs are convex functions. So, instead of maximizing $\\log p_{\\theta}(x)$ as a function of $\\theta$, we will maximize $\\mathcal{L}(\\theta, \\phi)$ as a function of both $\\theta$ and $\\phi$.\n",
    "\n",
    "We have a few pieces:\n",
    "1. The likelihood $p_{\\theta}(x | z)$, also called the \"generative network\". It is sometimes called the \"decoder\" as it \"decodes\" $x$ from $z$.\n",
    "2. The variational approximation $q_{\\phi}(z | x)$, also called the \"inference network\". Sometimes it is called the \"encoder\", as it \"encodes\" $x$ into $z$.\n",
    "\n",
    "In the code below, we are going to define $p_{\\theta}(x | z)$ and $q_{\\phi}(z | x)$.\n",
    "\n",
    "**Take a breather**\n",
    "\n",
    "Explain to your neighbour what is going on here. Is there anything that you don't understand?\n",
    "\n",
    "**Deep dive 101**\n",
    "\n",
    "Your challenge is to find how $\\theta$ and $\\phi$ are represented in the code.\n",
    "1. What are they?\n",
    "2. Where are they?\n",
    "Try to answer the other questions in the code below.\n",
    "\n",
    "Note that in the code, there are many images $x$ that are stacked in a batch x. The bound refers to one such image, and we assume that they are generated i.i.d., we sum the bounds..."
   ]
  },
  {
   "cell_type": "code",
   "execution_count": 3,
   "metadata": {
    "colab": {
     "autoexec": {
      "startup": false,
      "wait_interval": 0
     }
    },
    "colab_type": "code",
    "collapsed": true,
    "id": "x-hZ03C4tjjp"
   },
   "outputs": [],
   "source": [
    "def inference_network(x, latent_dim, hidden_size):\n",
    "    \"\"\"Construct an inference network q(z|x).\n",
    "\n",
    "    Args:\n",
    "        x: A batch of MNIST digits.\n",
    "        latent_dim: The latent dimensionality of z.\n",
    "        hidden_size: The size of the neural net hidden layers.\n",
    "    Returns:\n",
    "        mu: The mean of q(z|x)\n",
    "        sigma: The component-wise standard deviation of q(z|x)\n",
    "    \"\"\"    \n",
    "        \n",
    "    with slim.arg_scope([slim.fully_connected], activation_fn=tf.nn.relu):\n",
    "        \n",
    "        # Question: What is the shape of x as you run the code with MNIST images?\n",
    "        # Hint: You might have to put a `print(net.get_shape())` somewhere around\n",
    "        #             here, run the `train()` cell to contruct the TF graph, and see what\n",
    "        #             you get. Debugging is part of life!\n",
    "        # Answer: ....\n",
    "\n",
    "        net = slim.flatten(x)        \n",
    "        \n",
    "        # Question: Now that we've flattened x, what is its shape now, as `net`?        \n",
    "        # Answer: ...\n",
    "        \n",
    "        # At this point, `net` contains the input to the network. We will now\n",
    "        # transform it layer-by-layer:\n",
    "        \n",
    "        net = slim.fully_connected(net, hidden_size)\n",
    "        \n",
    "        # Question: What is the shape of the first layer, as `net`?\n",
    "        # Answer: ...\n",
    "\n",
    "        # Question: Write down the mathematical expression for\n",
    "        #        net = slim.fully_connected(net, hidden_size). It it was not wrapped in\n",
    "        #        \"with slim.arg_scope(..., activation_fn=tf.nn.relu)\", would the\n",
    "        #        mathematical expression look different? Why?\n",
    "        #\n",
    "        # Hint: If \"l\" indicates this layer, then we can either say\n",
    "        #        output = weights_l * input + biases_l        or\n",
    "        #        output = relu(weights_l * input + biases_l)\n",
    "        # Answer: ...\n",
    "        \n",
    "        # Question: How does it differ from the network that you devised in the\n",
    "        #        Deep Generative Models lecuture?\n",
    "        # Answer: ...\n",
    "        \n",
    "        net = slim.fully_connected(net, hidden_size)\n",
    "        \n",
    "        # Question: What is the shape of the second layer, as `net`?\n",
    "        # Answer: ...\n",
    "        \n",
    "        gaussian_params = slim.fully_connected(\n",
    "                net, latent_dim * 2, activation_fn=None)\n",
    "        \n",
    "        # Question: What is the shape of the third (output) layer,\n",
    "        #        `gaussian_params`?        \n",
    "        # Answer: ...\n",
    "    \n",
    "    # We're taking the output of the MLP (multi-layer perceptron) and split it\n",
    "    # into two parts: the first latent_dim outputs become the means, while the\n",
    "    # second latent_dim outputs become the standard deviations.\n",
    "    \n",
    "    # Challenge 1. Can you write the entire network as a mathematical function?\n",
    "    # Challenge 2. Can you draw it?\n",
    "    # Challenge 3. Can you say which parameters constitute \\phi?\n",
    "    #\n",
    "    # Challenge 4. (You can skip this challenge and do it at home).\n",
    "    #                            Can you see it in the actual computation graph?\n",
    "    #                            Hint: You can write the graph to file with\n",
    "    #\n",
    "    #                            tf.train.write_graph(tf.get_default_graph().as_graph_def(),\n",
    "    #                                                                     directory, 'mygraph.pbtxt')\n",
    "    \n",
    "    # The mean parameter is unconstrained\n",
    "    mu = gaussian_params[:, :latent_dim]\n",
    "    \n",
    "    # The standard deviation must be positive. Parametrize with a softplus and\n",
    "    # add a small epsilon for numerical stability\n",
    "    sigma = 1e-6 + tf.nn.softplus(gaussian_params[:, latent_dim:])\n",
    "        \n",
    "    # Question: Can you draw the softplus function, log(exp(inputs) + 1)?\n",
    "    # Answer: ...\n",
    "\n",
    "    return mu, sigma\n",
    "\n",
    "\n",
    "def generative_network(z, hidden_size):\n",
    "    \"\"\"Build a generative network to return the logits of p(x|z).\n",
    "\n",
    "    Args:\n",
    "        z: Samples of latent variables.\n",
    "        hidden_size: Size of the hidden state of the neural net.\n",
    "\n",
    "    Returns:\n",
    "        bernoulli_logits: logits for the Bernoulli likelihood of the data.\n",
    "    \"\"\"\n",
    "    with slim.arg_scope([slim.fully_connected], activation_fn=tf.nn.relu):\n",
    "        \n",
    "        net = slim.fully_connected(z, hidden_size)\n",
    "        net = slim.fully_connected(net, hidden_size)\n",
    "        bernoulli_logits = slim.fully_connected(net, 784, activation_fn=None)\n",
    "        bernoulli_logits = tf.reshape(bernoulli_logits, [-1, 28, 28, 1])\n",
    "        \n",
    "        # Challenge 5. Can you again write the entire network as a mathematical\n",
    "        #                            function, draw it, and say which parameters constitute\n",
    "        #                            \\theta?\n",
    "        \n",
    "        # Hold that thought... Can you (later) say why \"logits\" are returned, and\n",
    "        # why the are not transformed here to a probability?\n",
    "    return bernoulli_logits"
   ]
  },
  {
   "cell_type": "markdown",
   "metadata": {
    "colab_type": "text",
    "id": "UjOruvY_HMks"
   },
   "source": [
    "Now, look for the line `q_z = st.StochasticTensor(distributions.Normal(loc=q_mu, scale=q_sigma))` in `train()`.\n",
    "\n",
    "**Your challenge will be to rewrite that line, so that `st.StochasticTensor(...)` is not used.**\n",
    "\n",
    "First of all, you need to know what it does.\n",
    "Do you remember the **reparameterization trick**, from the Deep Generative Models lecture? As a recap, this rewrites:\n",
    "\n",
    "\\begin{align}\n",
    "\\mathcal{L} & = \\mathbb{E}_{q_{\\phi}(z|x)}\\Big[ \\log p_{\\theta}(x | z) + \\log p(z) - \\log q_{\\phi}(z | x)\\Big] \\\\\n",
    "& = \\mathbb{E}_{z \\sim \\mathcal{N}(\\mu_{\\theta}(x), \\sigma^2_{\\theta}(x))}\\Big[ \\log p_{\\theta}(x | z) \\Big]\n",
    "- \\mathbb{E}_{z \\sim \\mathcal{N}(\\mu_{\\theta}(x), \\sigma^2_{\\theta}(x))}\\left[ \\log \\frac{ q_{\\phi}(z | x) }{p(z)} \\right] \\\\\n",
    "& = \\mathbb{E}_{z \\sim \\mathcal{N}(\\mu_{\\theta}(x), \\sigma^2_{\\theta}(x))}\\Big[ \\log p_{\\theta}(x | z) \\Big]\n",
    "- \\textrm{Kullback Leibler divergence} \\ .\n",
    "\\end{align}\n",
    "\n",
    "You can turn to your favourite souce, and find an expression for the [KL divergence](https://en.wikipedia.org/wiki/Kullback%E2%80%93Leibler_divergence). It is function of a mean $\\mu_{\\theta}(x)$ and variance $\\sigma^2_{\\theta}(x)$, and we can look in Wikipedia on how to compute it.\n",
    "\n",
    "Note that the mean $\\mu_{\\theta}(x)$ and variance $\\sigma^2_{\\theta}(x)$ are parameterized as multi-layer perceptrons (MLPs) in `def inference_network(x, latent_dim, hidden_size)`.\n",
    "\n",
    "**Easy there, what's the catch?**\n",
    "\n",
    "Well, we can write the KL divergence part as a function, that we can differentiate (thank you, TensorFlow! back in the day people had to do this by hand!). But what about the first expectation?\n",
    "\n",
    "For the first expectation, we'd have to do something called a \"Monte Carlo estimate\" because we can't browse Wikipedia and look for a nice and analytic form of the function.\n",
    "\n",
    "**Monte Carlo estimate**\n",
    "\n",
    "Take $L$ samples $z^{(l)}$ from $z \\sim \\mathcal{N}(\\mu_{\\theta}(x), \\sigma^2_{\\theta}(x))$, and call them $z^{(1)}, z^{(2)}, \\ldots, z^{(L)}$. The \"sampling process\" essentially maps $x \\to z$ stochastically. We now approximate\n",
    "\n",
    "\\begin{align}\n",
    "\\mathbb{E}_{z \\sim \\mathcal{N}(\\mu_{\\theta}(x), \\sigma^2_{\\theta}(x))}\\Big[ \\log p_{\\theta}(x | z) \\Big] \\approx\n",
    "\\frac{1}{L} \\sum_{l=1}^{L} \\log p_{\\theta}(x | z^{(l)}) \\ .\n",
    "\\end{align}\n",
    "\n",
    "This is really awesome, as the expression above maps back $z \\to x$. Except for one small detail. If we were to write $x \\to z \\to x$ as a function, TensorFlow cannot differentiate it for us any more. We cannot take gradients through the samples :-( :-(\n",
    "\n",
    "**Reparameterization trick**\n",
    "\n",
    "There is a neat trick, where we put the samples (and stochasticity) *outside* the $x \\to z \\to x$ path.\n",
    "The trick is to sample $L$ uniform Gaussian random variables $\\epsilon^{(l)} \\sim \\mathcal{N}(0, 1)$. Can you see that there are no fancy parameters (that we have to adjust) in $\\mathcal{N}(0, 1)$?\n",
    "\n",
    "We can get the same samples from $z$, as we've had before, by *transforming* the $\\mathcal{N}(0, 1)$ random variables:\n",
    "$z^{(l)} = \\mu_{\\theta}(x) + \\epsilon^{(l)} * \\sigma_{\\theta}(x)$.\n",
    "\n",
    "\\begin{align}\n",
    "\\mathbb{E}_{z \\sim \\mathcal{N}(\\mu_{\\theta}(x), \\sigma^2_{\\theta}(x))}\\Big[ \\log p_{\\theta}(x | z) \\Big]\n",
    "= \n",
    "\\mathbb{E}_{\\epsilon \\sim \\mathcal{N}(0, 1)}\\Big[ \\log p_{\\theta}\\Big(x \\, \\Big| \\, z = \\mu_{\\theta}(x) + \\epsilon * \\sigma_{\\theta}(x)\\Big) \\Big]\n",
    "\\approx\n",
    "\\frac{1}{L} \\sum_{l=1}^{L} \\log p_{\\theta}\\Big(x \\, \\Big| \\, z = \\mu_{\\theta}(x) + \\epsilon^{(l)} * \\sigma_{\\theta}(x)\\Big) \\ .\n",
    "\\end{align}"
   ]
  },
  {
   "cell_type": "code",
   "execution_count": 4,
   "metadata": {
    "colab": {
     "autoexec": {
      "startup": false,
      "wait_interval": 0
     },
     "height": 4094,
     "output_extras": [
      {
       "item_id": 15
      },
      {
       "item_id": 16
      },
      {
       "item_id": 26
      },
      {
       "item_id": 27
      },
      {
       "item_id": 37
      },
      {
       "item_id": 38
      },
      {
       "item_id": 48
      },
      {
       "item_id": 49
      },
      {
       "item_id": 59
      },
      {
       "item_id": 60
      },
      {
       "item_id": 70
      },
      {
       "item_id": 71
      },
      {
       "item_id": 81
      },
      {
       "item_id": 82
      },
      {
       "item_id": 92
      },
      {
       "item_id": 93
      },
      {
       "item_id": 100
      },
      {
       "item_id": 101
      },
      {
       "item_id": 108
      }
     ]
    },
    "colab_type": "code",
    "executionInfo": {
     "elapsed": 117653,
     "status": "ok",
     "timestamp": 1504383769896,
     "user": {
      "displayName": "Ulrich Paquet",
      "photoUrl": "//lh3.googleusercontent.com/-q3A91HQu7t8/AAAAAAAAAAI/AAAAAAAAAAw/O3bjgikw0xQ/s50-c-k-no/photo.jpg",
      "userId": "117228953648657363788"
     },
     "user_tz": -60
    },
    "id": "xqKWVx_inGxC",
    "outputId": "d878684b-cb39-4145-deb5-36438edb0b44"
   },
   "outputs": [
    {
     "name": "stdout",
     "output_type": "stream",
     "text": [
      "Successfully downloaded train-images-idx3-ubyte.gz 9912422 bytes.\n",
      "Extracting /tmp/dat/train-images-idx3-ubyte.gz\n",
      "Successfully downloaded train-labels-idx1-ubyte.gz 28881 bytes.\n",
      "Extracting /tmp/dat/train-labels-idx1-ubyte.gz\n",
      "Successfully downloaded t10k-images-idx3-ubyte.gz 1648877 bytes.\n",
      "Extracting /tmp/dat/t10k-images-idx3-ubyte.gz\n",
      "Successfully downloaded t10k-labels-idx1-ubyte.gz 4542 bytes.\n",
      "Extracting /tmp/dat/t10k-labels-idx1-ubyte.gz\n",
      "Iteration: 0 ELBO: -529.470 Examples/s: 3.050e+06\n",
      "Iteration: 100 ELBO: -187.921 Examples/s: 1.129e+07\n",
      "Iteration: 200 ELBO: -176.638 Examples/s: 1.121e+07\n",
      "Iteration: 300 ELBO: -155.084 Examples/s: 1.175e+07\n",
      "Iteration: 400 ELBO: -166.478 Examples/s: 1.089e+07\n",
      "Iteration: 500 ELBO: -144.214 Examples/s: 1.127e+07\n",
      "Iteration: 600 ELBO: -149.845 Examples/s: 1.155e+07\n",
      "Iteration: 700 ELBO: -143.286 Examples/s: 1.128e+07\n",
      "Iteration: 800 ELBO: -149.707 Examples/s: 1.131e+07\n",
      "Iteration: 900 ELBO: -137.956 Examples/s: 1.161e+07\n",
      "Iteration: 1000 ELBO: -124.500 Examples/s: 1.140e+07\n"
     ]
    },
    {
     "data": {
      "image/png": "[encoded data removed]",
      "text/plain": [
       "<matplotlib.figure.Figure at 0x7f9a2bf01810>"
      ]
     },
     "metadata": {},
     "output_type": "display_data"
    },
    {
     "name": "stdout",
     "output_type": "stream",
     "text": [
      "Iteration: 1100 ELBO: -118.705 Examples/s: 1.083e+07\n",
      "Iteration: 1200 ELBO: -123.848 Examples/s: 1.187e+07\n",
      "Iteration: 1300 ELBO: -125.863 Examples/s: 1.167e+07\n",
      "Iteration: 1400 ELBO: -132.654 Examples/s: 1.169e+07\n",
      "Iteration: 1500 ELBO: -127.965 Examples/s: 1.171e+07\n",
      "Iteration: 1600 ELBO: -118.578 Examples/s: 1.167e+07\n",
      "Iteration: 1700 ELBO: -110.291 Examples/s: 1.128e+07\n",
      "Iteration: 1800 ELBO: -120.615 Examples/s: 1.169e+07\n",
      "Iteration: 1900 ELBO: -115.444 Examples/s: 1.183e+07\n",
      "Iteration: 2000 ELBO: -109.076 Examples/s: 1.181e+07\n"
     ]
    },
    {
     "data": {
      "image/png": "[encoded data removed]",
      "text/plain": [
       "<matplotlib.figure.Figure at 0x7f9a2d9c1f10>"
      ]
     },
     "metadata": {},
     "output_type": "display_data"
    },
    {
     "name": "stdout",
     "output_type": "stream",
     "text": [
      "Iteration: 2100 ELBO: -110.125 Examples/s: 1.154e+07\n",
      "Iteration: 2200 ELBO: -101.299 Examples/s: 1.163e+07\n",
      "Iteration: 2300 ELBO: -117.737 Examples/s: 1.130e+07\n",
      "Iteration: 2400 ELBO: -107.424 Examples/s: 1.152e+07\n",
      "Iteration: 2500 ELBO: -105.359 Examples/s: 1.146e+07\n",
      "Iteration: 2600 ELBO: -108.017 Examples/s: 1.142e+07\n",
      "Iteration: 2700 ELBO: -105.489 Examples/s: 1.150e+07\n",
      "Iteration: 2800 ELBO: -102.931 Examples/s: 1.129e+07\n",
      "Iteration: 2900 ELBO: -108.975 Examples/s: 1.164e+07\n",
      "Iteration: 3000 ELBO: -101.836 Examples/s: 1.167e+07\n"
     ]
    },
    {
     "data": {
      "image/png": "[encoded data removed]",
      "text/plain": [
       "<matplotlib.figure.Figure at 0x7f9a29d61050>"
      ]
     },
     "metadata": {},
     "output_type": "display_data"
    },
    {
     "name": "stdout",
     "output_type": "stream",
     "text": [
      "Iteration: 3100 ELBO: -102.005 Examples/s: 1.122e+07\n",
      "Iteration: 3200 ELBO: -106.879 Examples/s: 1.147e+07\n",
      "Iteration: 3300 ELBO: -102.612 Examples/s: 1.191e+07\n",
      "Iteration: 3400 ELBO: -96.813 Examples/s: 1.186e+07\n",
      "Iteration: 3500 ELBO: -97.796 Examples/s: 1.183e+07\n",
      "Iteration: 3600 ELBO: -104.069 Examples/s: 1.148e+07\n",
      "Iteration: 3700 ELBO: -103.338 Examples/s: 1.143e+07\n",
      "Iteration: 3800 ELBO: -99.388 Examples/s: 1.144e+07\n",
      "Iteration: 3900 ELBO: -107.018 Examples/s: 1.132e+07\n",
      "Iteration: 4000 ELBO: -101.676 Examples/s: 1.150e+07\n"
     ]
    },
    {
     "data": {
      "image/png": "[encoded data removed]",
      "text/plain": [
       "<matplotlib.figure.Figure at 0x7f9a29891fd0>"
      ]
     },
     "metadata": {},
     "output_type": "display_data"
    },
    {
     "name": "stdout",
     "output_type": "stream",
     "text": [
      "Iteration: 4100 ELBO: -97.778 Examples/s: 1.175e+07\n",
      "Iteration: 4200 ELBO: -101.897 Examples/s: 1.156e+07\n",
      "Iteration: 4300 ELBO: -94.645 Examples/s: 1.185e+07\n",
      "Iteration: 4400 ELBO: -94.824 Examples/s: 1.190e+07\n",
      "Iteration: 4500 ELBO: -101.232 Examples/s: 1.179e+07\n",
      "Iteration: 4600 ELBO: -91.991 Examples/s: 1.213e+07\n",
      "Iteration: 4700 ELBO: -96.230 Examples/s: 1.191e+07\n",
      "Iteration: 4800 ELBO: -96.739 Examples/s: 1.241e+07\n",
      "Iteration: 4900 ELBO: -104.932 Examples/s: 1.161e+07\n",
      "Iteration: 5000 ELBO: -101.914 Examples/s: 1.166e+07\n"
     ]
    },
    {
     "data": {
      "image/png": "[encoded data removed]",
      "text/plain": [
       "<matplotlib.figure.Figure at 0x7f9a29775b50>"
      ]
     },
     "metadata": {},
     "output_type": "display_data"
    },
    {
     "name": "stdout",
     "output_type": "stream",
     "text": [
      "Iteration: 5100 ELBO: -91.746 Examples/s: 1.172e+07\n",
      "Iteration: 5200 ELBO: -94.953 Examples/s: 1.179e+07\n",
      "Iteration: 5300 ELBO: -96.010 Examples/s: 1.169e+07\n",
      "Iteration: 5400 ELBO: -102.636 Examples/s: 1.198e+07\n",
      "Iteration: 5500 ELBO: -89.464 Examples/s: 1.166e+07\n",
      "Iteration: 5600 ELBO: -91.096 Examples/s: 1.186e+07\n",
      "Iteration: 5700 ELBO: -99.129 Examples/s: 1.182e+07\n",
      "Iteration: 5800 ELBO: -87.192 Examples/s: 1.171e+07\n",
      "Iteration: 5900 ELBO: -92.808 Examples/s: 1.179e+07\n",
      "Iteration: 6000 ELBO: -94.176 Examples/s: 1.193e+07\n"
     ]
    },
    {
     "data": {
      "image/png": "[encoded data removed]",
      "text/plain": [
       "<matplotlib.figure.Figure at 0x7f9a295c0810>"
      ]
     },
     "metadata": {},
     "output_type": "display_data"
    },
    {
     "name": "stdout",
     "output_type": "stream",
     "text": [
      "Iteration: 6100 ELBO: -94.011 Examples/s: 1.149e+07\n",
      "Iteration: 6200 ELBO: -92.812 Examples/s: 1.156e+07\n",
      "Iteration: 6300 ELBO: -90.016 Examples/s: 1.122e+07\n",
      "Iteration: 6400 ELBO: -96.862 Examples/s: 1.117e+07\n",
      "Iteration: 6500 ELBO: -87.417 Examples/s: 1.163e+07\n",
      "Iteration: 6600 ELBO: -94.000 Examples/s: 1.147e+07\n",
      "Iteration: 6700 ELBO: -97.242 Examples/s: 1.147e+07\n",
      "Iteration: 6800 ELBO: -87.779 Examples/s: 1.157e+07\n",
      "Iteration: 6900 ELBO: -98.809 Examples/s: 1.175e+07\n",
      "Iteration: 7000 ELBO: -88.273 Examples/s: 1.161e+07\n"
     ]
    },
    {
     "data": {
      "image/png": "[encoded data removed]",
      "text/plain": [
       "<matplotlib.figure.Figure at 0x7f9a29c49110>"
      ]
     },
     "metadata": {},
     "output_type": "display_data"
    },
    {
     "name": "stdout",
     "output_type": "stream",
     "text": [
      "Iteration: 7100 ELBO: -87.916 Examples/s: 1.163e+07\n",
      "Iteration: 7200 ELBO: -86.134 Examples/s: 1.146e+07\n",
      "Iteration: 7300 ELBO: -91.525 Examples/s: 1.165e+07\n",
      "Iteration: 7400 ELBO: -94.199 Examples/s: 1.169e+07\n",
      "Iteration: 7500 ELBO: -94.125 Examples/s: 1.160e+07\n",
      "Iteration: 7600 ELBO: -100.188 Examples/s: 1.178e+07\n",
      "Iteration: 7700 ELBO: -85.999 Examples/s: 1.158e+07\n",
      "Iteration: 7800 ELBO: -90.856 Examples/s: 1.155e+07\n",
      "Iteration: 7900 ELBO: -85.855 Examples/s: 1.155e+07\n",
      "Iteration: 8000 ELBO: -88.127 Examples/s: 1.190e+07\n"
     ]
    },
    {
     "data": {
      "image/png": "[encoded data removed]",
      "text/plain": [
       "<matplotlib.figure.Figure at 0x7f9a29602550>"
      ]
     },
     "metadata": {},
     "output_type": "display_data"
    },
    {
     "name": "stdout",
     "output_type": "stream",
     "text": [
      "Iteration: 8100 ELBO: -90.874 Examples/s: 1.118e+07\n",
      "Iteration: 8200 ELBO: -92.233 Examples/s: 1.166e+07\n",
      "Iteration: 8300 ELBO: -95.609 Examples/s: 1.148e+07\n",
      "Iteration: 8400 ELBO: -85.463 Examples/s: 1.128e+07\n",
      "Iteration: 8500 ELBO: -97.038 Examples/s: 1.136e+07\n",
      "Iteration: 8600 ELBO: -95.602 Examples/s: 1.122e+07\n",
      "Iteration: 8700 ELBO: -89.140 Examples/s: 1.167e+07\n",
      "Iteration: 8800 ELBO: -89.722 Examples/s: 1.151e+07\n",
      "Iteration: 8900 ELBO: -86.956 Examples/s: 1.164e+07\n",
      "Iteration: 9000 ELBO: -87.270 Examples/s: 1.164e+07\n"
     ]
    },
    {
     "data": {
      "image/png": "[encoded data removed]",
      "text/plain": [
       "<matplotlib.figure.Figure at 0x7f9a293c7cd0>"
      ]
     },
     "metadata": {},
     "output_type": "display_data"
    },
    {
     "name": "stdout",
     "output_type": "stream",
     "text": [
      "Iteration: 9100 ELBO: -89.507 Examples/s: 1.147e+07\n",
      "Iteration: 9200 ELBO: -92.469 Examples/s: 1.166e+07\n",
      "Iteration: 9300 ELBO: -94.381 Examples/s: 1.169e+07\n",
      "Iteration: 9400 ELBO: -93.184 Examples/s: 1.178e+07\n",
      "Iteration: 9500 ELBO: -95.864 Examples/s: 1.140e+07\n",
      "Iteration: 9600 ELBO: -90.629 Examples/s: 1.062e+07\n",
      "Iteration: 9700 ELBO: -92.728 Examples/s: 1.158e+07\n",
      "Iteration: 9800 ELBO: -86.942 Examples/s: 1.150e+07\n",
      "Iteration: 9900 ELBO: -92.241 Examples/s: 1.184e+07\n"
     ]
    }
   ],
   "source": [
    "def train():    \n",
    "    # Train a Variational Autoencoder on MNIST\n",
    "\n",
    "    # We need to reset the graph between multiple runs of the cell to avoid\n",
    "    # TF complaining about creating duplicate variables.\n",
    "    tf.reset_default_graph()\n",
    "    \n",
    "    # Input placeholders\n",
    "    with tf.name_scope('data'):\n",
    "        x = tf.placeholder(tf.float32, [None, 28, 28, 1])     \n",
    "    \n",
    "    with tf.variable_scope('variational'):\n",
    "        # Given x, get the mean and variance of q(z|x).\n",
    "        q_mu, q_sigma = inference_network(x=x,\n",
    "                                          latent_dim=FLAGS.latent_dim,\n",
    "                                          hidden_size=FLAGS.hidden_size)\n",
    "        \n",
    "        with st.value_type(st.SampleValue()):\n",
    "            # We now draw a sample from z ~ q(z|x).\n",
    "            #\n",
    "            # This is the key to this practical. We effectively transform Normal(0,1)\n",
    "            # noise that it *outside* the computation graph, to represent a sample\n",
    "            # from Normal(q_mu, q_sigma).\n",
    "            #\n",
    "            #     This is the REPARAMETERIZATION TRICK.\n",
    "            \n",
    "            q_z = st.StochasticTensor(distributions.Normal(loc=q_mu, scale=q_sigma))\n",
    "            \n",
    "            # Challenge: Can you write\n",
    "            #\n",
    "            # q_z = ...\n",
    "            #\n",
    "            # by using tf.random_normal(...) and then transforming it?\n",
    "            \n",
    "    with tf.variable_scope('model'):\n",
    "        # The likelihood is Bernoulli-distributed with logits given by the\n",
    "        # generative network\n",
    "        p_x_given_z_logits = generative_network(z=q_z,\n",
    "                                                hidden_size=FLAGS.hidden_size)\n",
    "\n",
    "        p_x_given_z = distributions.Bernoulli(logits=p_x_given_z_logits)\n",
    "        \n",
    "        posterior_predictive_samples = p_x_given_z.sample()\n",
    "\n",
    "    # You can ignore the \"Take samples\" bits for now, until the end of the prac.\n",
    "    # Take samples from the prior\n",
    "    with tf.variable_scope('model', reuse=True):\n",
    "        p_z = distributions.Normal(loc=np.zeros(FLAGS.latent_dim, dtype=np.float32),\n",
    "                                                scale=np.ones(FLAGS.latent_dim, dtype=np.float32))\n",
    "        p_z_sample = p_z.sample(FLAGS.n_samples)\n",
    "        p_x_given_z_logits = generative_network(z=p_z_sample,\n",
    "                                                hidden_size=FLAGS.hidden_size)\n",
    "        prior_predictive = distributions.Bernoulli(logits=p_x_given_z_logits)\n",
    "        prior_predictive_samples = prior_predictive.sample()     \n",
    "\n",
    "    # You can ignore the \"Take samples\" bits for now, until the end of the prac.\n",
    "    # Take samples from the prior with a placeholder\n",
    "    with tf.variable_scope('model', reuse=True):\n",
    "        z_input = tf.placeholder(tf.float32, [None, FLAGS.latent_dim])\n",
    "        p_x_given_z_logits = generative_network(z=z_input,\n",
    "                                                hidden_size=FLAGS.hidden_size)\n",
    "        prior_predictive_inp = distributions.Bernoulli(logits=p_x_given_z_logits)\n",
    "        prior_predictive_inp_sample = prior_predictive_inp.sample()\n",
    "\n",
    "    # The juice! Convince yourself that you understand the lines below.    \n",
    "    # Build the evidence lower bound (ELBO) or the negative loss\n",
    "    kl = tf.reduce_sum(distributions.kl_divergence(q_z.distribution, p_z), 1)\n",
    "    expected_log_likelihood = tf.reduce_sum(p_x_given_z.log_prob(x),\n",
    "                                            [1, 2, 3])\n",
    "    elbo = tf.reduce_sum(expected_log_likelihood - kl, 0)\n",
    "\n",
    "    # Challenge. Can you see how the four lines above relate to the mathematical\n",
    "    #                        expressions you've encountered?\n",
    "    # Answer: ...\n",
    "    \n",
    "    optimizer = tf.train.RMSPropOptimizer(learning_rate=0.001)\n",
    "\n",
    "    train_op = optimizer.minimize(-elbo)\n",
    "\n",
    "    init_op = tf.global_variables_initializer()\n",
    "\n",
    "    # Run training\n",
    "    sess = tf.InteractiveSession()\n",
    "    sess.run(init_op)\n",
    " \n",
    "    #mnist = read_data_sets(FLAGS.data_dir, one_hot=True)\n",
    "    mnist = input_data.read_data_sets(FLAGS.data_dir, one_hot=True)\n",
    "\n",
    "    # Get fixed MNIST digits for plotting posterior means during training\n",
    "    np_x_fixed, np_y = mnist.test.next_batch(5000)\n",
    "    np_x_fixed = np_x_fixed.reshape(5000, 28, 28, 1)\n",
    "    np_x_fixed = (np_x_fixed > 0.5).astype(np.float32)\n",
    "\n",
    "    for i in range(N_ITERATIONS):\n",
    "        # Re-binarize the data at every batch; this improves results\n",
    "        np_x, _ = mnist.train.next_batch(FLAGS.batch_size)\n",
    "        np_x = np_x.reshape(FLAGS.batch_size, 28, 28, 1)\n",
    "        np_x = (np_x > 0.5).astype(np.float32)\n",
    "        sess.run(train_op, {x: np_x})\n",
    "                \n",
    "        t0 = time.time()\n",
    "        if i % 100 == 0:            \n",
    "            np_elbo = sess.run(elbo, feed_dict={x: np_x})                        \n",
    "                     \n",
    "            print('Iteration: {0:d} ELBO: {1:.3f} Examples/s: {2:.3e}'.format(\n",
    "                    i,\n",
    "                    np_elbo / FLAGS.batch_size,\n",
    "                    FLAGS.batch_size * FLAGS.print_every / (time.time() - t0)))\n",
    "            t0 = time.time()            \n",
    "\n",
    "        if i % 1000 == 0 and i > 0: \n",
    "            # Get samples\n",
    "            np_posterior_samples, np_prior_samples = sess.run(\n",
    "                    [posterior_predictive_samples, prior_predictive_samples],\n",
    "                    feed_dict={x: np_x})                     \n",
    "            \n",
    "            for k in range(1):     # range(FLAGS.n_samples):                \n",
    "                # Plot the data using Matplotlib\n",
    "                fig = plt.figure()    \n",
    "                plt.subplot(1, 2, 1)                \n",
    "                plt.imshow(np_posterior_samples[k, :, :, 0])                \n",
    "                plt.title('Posterior sample')                \n",
    "                \n",
    "                plt.subplot(1, 2, 2)                \n",
    "                plt.imshow(np_prior_samples[k, :, :, 0])                \n",
    "                plt.title('Prior sample')\n",
    "                plt.show()                                    \n",
    "\n",
    "train()\n"
   ]
  },
  {
   "cell_type": "markdown",
   "metadata": {
    "colab_type": "text",
    "id": "Hv9v8K7nTcG0"
   },
   "source": [
    "# Final discussion\n",
    "\n",
    "**Doing better**\n",
    "\n",
    "* At this point, you might realize that the prior samples don't all look like perfectly formed digits.\n",
    "\n",
    "* Now, think about the discussion about the \"data manifold\" from the Deep Generative Models lecture. Do you think $p(z)$ actually captured the data manifold, using $p_{\\theta}(x | z)$ as a generative model?\n",
    "\n",
    "* What will you do to make the randomly generated digits (prior samples) look more realistic? Train for longer? Make the network deeper?\n",
    "\n",
    "**Objective function**\n",
    "\n",
    "* Do you think the ELBO (evidence lower bound) is the right measure of success? Why? Why not?\n",
    "\n",
    "* Do you think the ELBO has pathological flaws? Or is it a convenient tool?\n",
    "\n",
    "* Do you think a data manifold should be described by a Gaussian distribution?\n",
    "\n",
    "* In which other ways will you solve the inference problem, finding $p_{\\theta}(z | x)$?\n",
    "\n",
    "* In which other ways will you solve the learning problem, finding the $\\theta$ that maximizes $p_{\\theta}(x)$?"
   ]
  },
  {
   "cell_type": "markdown",
   "metadata": {
    "colab_type": "text",
    "id": "c0g25bBfUED8"
   },
   "source": [
    "# NB: Before you go (5min)\n",
    "\n",
    "Pair up with someone else and go through the questions in \"Learning Objectives\" at the top. Take turns explaining each of these to each other, and be sure to ask the tutors if you're both unsure!"
   ]
  },
  {
   "cell_type": "markdown",
   "metadata": {
    "colab_type": "text",
    "id": "qH_8_uOyE5VO"
   },
   "source": [
    "# Acknowledgements\n",
    "\n",
    "* Based on Jaan Altosaar's VAE implementation: https://github.com/altosaar/vae/blob/master/vae.py"
   ]
  },
  {
   "cell_type": "markdown",
   "metadata": {
    "colab_type": "text",
    "id": "q5Qas3bE3-oj"
   },
   "source": [
    "# Feedback\n",
    "\n",
    "Please send any bugs and comments to dli-practicals@googlegroups.com."
   ]
  }
 ],
 "metadata": {
  "colab": {
   "default_view": {},
   "name": "Practical 5: Variational Auto-Encoders (Solution)",
   "provenance": [],
   "version": "0.3.2",
   "views": {}
  },
  "kernelspec": {
   "display_name": "Python 2",
   "language": "python",
   "name": "python2"
  },
  "language_info": {
   "codemirror_mode": {
    "name": "ipython",
    "version": 2
   },
   "file_extension": ".py",
   "mimetype": "text/x-python",
   "name": "python",
   "nbconvert_exporter": "python",
   "pygments_lexer": "ipython2",
   "version": "2.7.13"
  }
 },
 "nbformat": 4,
 "nbformat_minor": 1
}
